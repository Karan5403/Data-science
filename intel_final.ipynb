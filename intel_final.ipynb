{
 "cells": [
  {
   "cell_type": "code",
   "execution_count": 1,
   "metadata": {},
   "outputs": [],
   "source": [
    "import numpy as np\n",
    "import pandas as pd\n",
    "import seaborn as sns\n",
    "import matplotlib.pyplot as plt\n",
    "from matplotlib.image import imread\n",
    "%matplotlib inline\n",
    "import cv2\n",
    "import os"
   ]
  },
  {
   "cell_type": "code",
   "execution_count": 2,
   "metadata": {},
   "outputs": [
    {
     "data": {
      "text/plain": [
       "['seg_pred', 'seg_test', 'seg_train']"
      ]
     },
     "execution_count": 2,
     "metadata": {},
     "output_type": "execute_result"
    }
   ],
   "source": [
    "import os\n",
    "test_train_path = 'C:\\\\Users\\\\karan\\\\Desktop\\\\Rahul-Codes\\\\directory\\\\DataSciencePython\\\\DeepLearning\\\\CNN\\\\notebooks\\\\intel'\n",
    "os.listdir(test_train_path)"
   ]
  },
  {
   "cell_type": "code",
   "execution_count": 3,
   "metadata": {},
   "outputs": [],
   "source": [
    "\n",
    "train_path = test_train_path+'\\\\seg_train\\\\seg_train'"
   ]
  },
  {
   "cell_type": "code",
   "execution_count": 4,
   "metadata": {},
   "outputs": [],
   "source": [
    "test_path = test_train_path+'\\\\seg_test\\\\seg_test'"
   ]
  },
  {
   "cell_type": "code",
   "execution_count": 5,
   "metadata": {},
   "outputs": [],
   "source": [
    "from tensorflow.keras.preprocessing.image import ImageDataGenerator"
   ]
  },
  {
   "cell_type": "code",
   "execution_count": 6,
   "metadata": {},
   "outputs": [],
   "source": [
    "image_gen = ImageDataGenerator(width_shift_range=0.10,\n",
    "                               height_shift_range=0.10, \n",
    "                               rescale=1/255, \n",
    "                               shear_range=0.1,\n",
    "                               zoom_range=0.1,\n",
    "                               fill_mode='nearest')"
   ]
  },
  {
   "cell_type": "code",
   "execution_count": 7,
   "metadata": {},
   "outputs": [
    {
     "name": "stdout",
     "output_type": "stream",
     "text": [
      "Found 14034 images belonging to 6 classes.\n"
     ]
    },
    {
     "data": {
      "text/plain": [
       "<tensorflow.python.keras.preprocessing.image.DirectoryIterator at 0x111fea60>"
      ]
     },
     "execution_count": 7,
     "metadata": {},
     "output_type": "execute_result"
    }
   ],
   "source": [
    "image_gen.flow_from_directory(train_path)"
   ]
  },
  {
   "cell_type": "code",
   "execution_count": 8,
   "metadata": {},
   "outputs": [
    {
     "name": "stdout",
     "output_type": "stream",
     "text": [
      "Found 3000 images belonging to 6 classes.\n"
     ]
    },
    {
     "data": {
      "text/plain": [
       "<tensorflow.python.keras.preprocessing.image.DirectoryIterator at 0x4d25910>"
      ]
     },
     "execution_count": 8,
     "metadata": {},
     "output_type": "execute_result"
    }
   ],
   "source": [
    "image_gen.flow_from_directory(test_path)"
   ]
  },
  {
   "cell_type": "code",
   "execution_count": 9,
   "metadata": {},
   "outputs": [],
   "source": [
    "\n",
    "from tensorflow.keras.models import Sequential\n",
    "from tensorflow.keras.layers import Dense,Conv2D,MaxPool2D,Flatten,Dropout"
   ]
  },
  {
   "cell_type": "code",
   "execution_count": 10,
   "metadata": {},
   "outputs": [],
   "source": [
    "model = Sequential()\n",
    "\n",
    "model.add(Conv2D(filters=32,kernel_size=(3,3),input_shape=(150,150,3),activation='relu'))\n",
    "model.add(MaxPool2D(pool_size=(2,2)))\n",
    "\n",
    "model.add(Conv2D(filters=64,kernel_size=(3,3),input_shape=(150,150,3),activation='relu'))\n",
    "model.add(MaxPool2D(pool_size=(2,2)))\n",
    "\n",
    "model.add(Conv2D(filters=64,kernel_size=(3,3),input_shape=(150,150,3),activation='relu'))\n",
    "model.add(MaxPool2D(pool_size=(2,2)))\n",
    "\n",
    "model.add(Flatten())\n",
    "\n",
    "model.add(Dense(128,activation='relu'))\n",
    "model.add(Dropout(0.5))\n",
    "model.add(Dense(128,activation='relu'))\n",
    "model.add(Dense(6,activation='softmax'))\n",
    "\n",
    "model.compile(loss='categorical_crossentropy',optimizer='adam',metrics=['accuracy'])"
   ]
  },
  {
   "cell_type": "code",
   "execution_count": 11,
   "metadata": {},
   "outputs": [
    {
     "name": "stdout",
     "output_type": "stream",
     "text": [
      "Model: \"sequential\"\n",
      "_________________________________________________________________\n",
      "Layer (type)                 Output Shape              Param #   \n",
      "=================================================================\n",
      "conv2d (Conv2D)              (None, 148, 148, 32)      896       \n",
      "_________________________________________________________________\n",
      "max_pooling2d (MaxPooling2D) (None, 74, 74, 32)        0         \n",
      "_________________________________________________________________\n",
      "conv2d_1 (Conv2D)            (None, 72, 72, 64)        18496     \n",
      "_________________________________________________________________\n",
      "max_pooling2d_1 (MaxPooling2 (None, 36, 36, 64)        0         \n",
      "_________________________________________________________________\n",
      "conv2d_2 (Conv2D)            (None, 34, 34, 64)        36928     \n",
      "_________________________________________________________________\n",
      "max_pooling2d_2 (MaxPooling2 (None, 17, 17, 64)        0         \n",
      "_________________________________________________________________\n",
      "flatten (Flatten)            (None, 18496)             0         \n",
      "_________________________________________________________________\n",
      "dense (Dense)                (None, 128)               2367616   \n",
      "_________________________________________________________________\n",
      "dropout (Dropout)            (None, 128)               0         \n",
      "_________________________________________________________________\n",
      "dense_1 (Dense)              (None, 128)               16512     \n",
      "_________________________________________________________________\n",
      "dense_2 (Dense)              (None, 6)                 774       \n",
      "=================================================================\n",
      "Total params: 2,441,222\n",
      "Trainable params: 2,441,222\n",
      "Non-trainable params: 0\n",
      "_________________________________________________________________\n"
     ]
    }
   ],
   "source": [
    "\n",
    "model.summary()"
   ]
  },
  {
   "cell_type": "code",
   "execution_count": 12,
   "metadata": {},
   "outputs": [],
   "source": [
    "from tensorflow.keras.callbacks import EarlyStopping\n",
    "early_stop = EarlyStopping(monitor='val_loss',mode='min',patience=4)"
   ]
  },
  {
   "cell_type": "code",
   "execution_count": 14,
   "metadata": {},
   "outputs": [],
   "source": [
    "from tensorflow.keras.callbacks import ReduceLROnPlateau\n",
    "\n",
    "\n",
    "reduce = ReduceLROnPlateau(monitor='val_loss', factor=0.2, patience=3, min_lr=0.001, verbose = 1)"
   ]
  },
  {
   "cell_type": "code",
   "execution_count": 13,
   "metadata": {},
   "outputs": [
    {
     "name": "stdout",
     "output_type": "stream",
     "text": [
      "Found 14034 images belonging to 6 classes.\n"
     ]
    }
   ],
   "source": [
    "train_image_gen = image_gen.flow_from_directory(train_path,\n",
    "                                                target_size=(150,150),\n",
    "                                                color_mode='rgb',\n",
    "                                                class_mode='categorical',\n",
    "                                                batch_size=64,\n",
    "                                               )"
   ]
  },
  {
   "cell_type": "code",
   "execution_count": 14,
   "metadata": {},
   "outputs": [
    {
     "name": "stdout",
     "output_type": "stream",
     "text": [
      "Found 3000 images belonging to 6 classes.\n"
     ]
    }
   ],
   "source": [
    "\n",
    "test_image_gen = image_gen.flow_from_directory(test_path,\n",
    "                                                target_size=(150,150),\n",
    "                                                color_mode='rgb',\n",
    "                                                class_mode='categorical',\n",
    "                                                batch_size=64,\n",
    "                                                shuffle=False\n",
    "                                               )"
   ]
  },
  {
   "cell_type": "code",
   "execution_count": 81,
   "metadata": {},
   "outputs": [
    {
     "data": {
      "text/plain": [
       "{'buildings': 0,\n",
       " 'forest': 1,\n",
       " 'glacier': 2,\n",
       " 'mountain': 3,\n",
       " 'sea': 4,\n",
       " 'street': 5}"
      ]
     },
     "execution_count": 81,
     "metadata": {},
     "output_type": "execute_result"
    }
   ],
   "source": [
    "train_image_gen.class_indices"
   ]
  },
  {
   "cell_type": "code",
   "execution_count": 21,
   "metadata": {},
   "outputs": [
    {
     "name": "stdout",
     "output_type": "stream",
     "text": [
      "Epoch 1/20\n",
      "220/220 [==============================] - 1195s 5s/step - loss: 1.0967 - accuracy: 0.5700 - val_loss: 0.8379 - val_accuracy: 0.6847\n",
      "Epoch 2/20\n",
      "220/220 [==============================] - 1130s 5s/step - loss: 0.8460 - accuracy: 0.6811 - val_loss: 0.7061 - val_accuracy: 0.7193\n",
      "Epoch 3/20\n",
      "220/220 [==============================] - 1127s 5s/step - loss: 0.7397 - accuracy: 0.7272 - val_loss: 0.7346 - val_accuracy: 0.7423\n",
      "Epoch 4/20\n",
      "220/220 [==============================] - 1147s 5s/step - loss: 0.6706 - accuracy: 0.7593 - val_loss: 0.5603 - val_accuracy: 0.8013\n",
      "Epoch 5/20\n",
      "220/220 [==============================] - 1131s 5s/step - loss: 0.6249 - accuracy: 0.7758 - val_loss: 0.5252 - val_accuracy: 0.8107\n",
      "Epoch 6/20\n",
      "220/220 [==============================] - 1122s 5s/step - loss: 0.5696 - accuracy: 0.7993 - val_loss: 0.5270 - val_accuracy: 0.8043\n",
      "Epoch 7/20\n",
      "220/220 [==============================] - 1127s 5s/step - loss: 0.5450 - accuracy: 0.8040 - val_loss: 0.5072 - val_accuracy: 0.8130\n",
      "Epoch 8/20\n",
      "220/220 [==============================] - 1104s 5s/step - loss: 0.5053 - accuracy: 0.8205 - val_loss: 0.4882 - val_accuracy: 0.8310\n",
      "Epoch 9/20\n",
      "220/220 [==============================] - 1099s 5s/step - loss: 0.4896 - accuracy: 0.8270 - val_loss: 0.4825 - val_accuracy: 0.8200\n",
      "Epoch 10/20\n",
      "220/220 [==============================] - 1101s 5s/step - loss: 0.4804 - accuracy: 0.8320 - val_loss: 0.4629 - val_accuracy: 0.8347\n",
      "Epoch 11/20\n",
      "220/220 [==============================] - 1120s 5s/step - loss: 0.4761 - accuracy: 0.8325 - val_loss: 0.4544 - val_accuracy: 0.8333\n",
      "Epoch 12/20\n",
      "220/220 [==============================] - 1096s 5s/step - loss: 0.4435 - accuracy: 0.8459 - val_loss: 0.4488 - val_accuracy: 0.8450\n",
      "Epoch 13/20\n",
      "220/220 [==============================] - 1100s 5s/step - loss: 0.4295 - accuracy: 0.8474 - val_loss: 0.4438 - val_accuracy: 0.8450\n",
      "Epoch 14/20\n",
      "220/220 [==============================] - 1099s 5s/step - loss: 0.4138 - accuracy: 0.8558 - val_loss: 0.4268 - val_accuracy: 0.8523\n",
      "Epoch 15/20\n",
      "220/220 [==============================] - 1106s 5s/step - loss: 0.4065 - accuracy: 0.8538 - val_loss: 0.4388 - val_accuracy: 0.8373\n",
      "Epoch 16/20\n",
      "220/220 [==============================] - 1116s 5s/step - loss: 0.4139 - accuracy: 0.8552 - val_loss: 0.4108 - val_accuracy: 0.8543\n",
      "Epoch 17/20\n",
      "220/220 [==============================] - 1102s 5s/step - loss: 0.3856 - accuracy: 0.8647 - val_loss: 0.4238 - val_accuracy: 0.8477\n",
      "Epoch 18/20\n",
      "220/220 [==============================] - 1098s 5s/step - loss: 0.3938 - accuracy: 0.8605 - val_loss: 0.4225 - val_accuracy: 0.8477\n",
      "Epoch 19/20\n",
      "220/220 [==============================] - ETA: 0s - loss: 0.3732 - accuracy: 0.8668\n",
      "Epoch 00019: ReduceLROnPlateau reducing learning rate to 0.001.\n",
      "220/220 [==============================] - 1099s 5s/step - loss: 0.3732 - accuracy: 0.8668 - val_loss: 0.4129 - val_accuracy: 0.8593\n",
      "Epoch 20/20\n",
      "220/220 [==============================] - 1101s 5s/step - loss: 0.3639 - accuracy: 0.8709 - val_loss: 0.5483 - val_accuracy: 0.8207\n"
     ]
    }
   ],
   "source": [
    "results = model.fit_generator(train_image_gen,validation_data=test_image_gen,callbacks=[early_stop,reduce],epochs=20)"
   ]
  },
  {
   "cell_type": "code",
   "execution_count": 16,
   "metadata": {},
   "outputs": [
    {
     "name": "stdout",
     "output_type": "stream",
     "text": [
      "Found 14034 images belonging to 6 classes.\n"
     ]
    }
   ],
   "source": [
    "train_image_gen1 = image_gen.flow_from_directory(train_path,\n",
    "                                                target_size=(150,150),\n",
    "                                                color_mode='rgb',\n",
    "                                                class_mode='categorical',\n",
    "                                                batch_size=16,\n",
    "                                               )"
   ]
  },
  {
   "cell_type": "code",
   "execution_count": 17,
   "metadata": {},
   "outputs": [
    {
     "name": "stdout",
     "output_type": "stream",
     "text": [
      "Found 3000 images belonging to 6 classes.\n"
     ]
    }
   ],
   "source": [
    "\n",
    "test_image_gen1 = image_gen.flow_from_directory(test_path,\n",
    "                                                target_size=(150,150),\n",
    "                                                color_mode='rgb',\n",
    "                                                class_mode='categorical',\n",
    "                                                batch_size=16,\n",
    "                                                shuffle=False\n",
    "                                               )"
   ]
  },
  {
   "cell_type": "code",
   "execution_count": 28,
   "metadata": {},
   "outputs": [],
   "source": [
    "from tensorflow.keras.preprocessing.text import Tokenizer\n",
    "import pickle"
   ]
  },
  {
   "cell_type": "code",
   "execution_count": 18,
   "metadata": {},
   "outputs": [],
   "source": [
    "#OUTPUT FILES FOR FUTURE PREDICTIONS\n",
    "\n",
    "\n",
    "from tensorflow.keras.callbacks import ModelCheckpoint\n",
    "\n",
    "\n",
    "checkpoint = ModelCheckpoint(\"nextword1.h5\", monitor='loss', verbose=1,\n",
    "    save_best_only=True, mode='auto')\n",
    "\n",
    "\n",
    "\n"
   ]
  },
  {
   "cell_type": "code",
   "execution_count": null,
   "metadata": {},
   "outputs": [],
   "source": []
  },
  {
   "cell_type": "code",
   "execution_count": 19,
   "metadata": {},
   "outputs": [
    {
     "name": "stdout",
     "output_type": "stream",
     "text": [
      "WARNING:tensorflow:From <ipython-input-19-52ea4dd6a337>:1: Model.fit_generator (from tensorflow.python.keras.engine.training) is deprecated and will be removed in a future version.\n",
      "Instructions for updating:\n",
      "Please use Model.fit, which supports generators.\n",
      "Epoch 1/20\n",
      "878/878 [==============================] - ETA: 0s - loss: 1.1306 - accuracy: 0.5430\n",
      "Epoch 00001: loss improved from inf to 1.13063, saving model to nextword1.h5\n",
      "878/878 [==============================] - 1461s 2s/step - loss: 1.1306 - accuracy: 0.5430 - val_loss: 1.0202 - val_accuracy: 0.6090\n",
      "Epoch 2/20\n",
      "878/878 [==============================] - ETA: 0s - loss: 0.8547 - accuracy: 0.6733\n",
      "Epoch 00002: loss improved from 1.13063 to 0.85471, saving model to nextword1.h5\n",
      "878/878 [==============================] - 1172s 1s/step - loss: 0.8547 - accuracy: 0.6733 - val_loss: 0.7912 - val_accuracy: 0.7137\n",
      "Epoch 3/20\n",
      "878/878 [==============================] - ETA: 0s - loss: 0.7282 - accuracy: 0.7371\n",
      "Epoch 00003: loss improved from 0.85471 to 0.72820, saving model to nextword1.h5\n",
      "878/878 [==============================] - 1169s 1s/step - loss: 0.7282 - accuracy: 0.7371 - val_loss: 0.6020 - val_accuracy: 0.7873\n",
      "Epoch 4/20\n",
      "878/878 [==============================] - ETA: 0s - loss: 0.6552 - accuracy: 0.7642\n",
      "Epoch 00004: loss improved from 0.72820 to 0.65521, saving model to nextword1.h5\n",
      "878/878 [==============================] - 1168s 1s/step - loss: 0.6552 - accuracy: 0.7642 - val_loss: 0.5763 - val_accuracy: 0.7967\n",
      "Epoch 5/20\n",
      "878/878 [==============================] - ETA: 0s - loss: 0.6152 - accuracy: 0.7853\n",
      "Epoch 00005: loss improved from 0.65521 to 0.61523, saving model to nextword1.h5\n",
      "878/878 [==============================] - 1167s 1s/step - loss: 0.6152 - accuracy: 0.7853 - val_loss: 0.5303 - val_accuracy: 0.8120\n",
      "Epoch 6/20\n",
      "878/878 [==============================] - ETA: 0s - loss: 0.5708 - accuracy: 0.7969\n",
      "Epoch 00006: loss improved from 0.61523 to 0.57084, saving model to nextword1.h5\n",
      "878/878 [==============================] - 1167s 1s/step - loss: 0.5708 - accuracy: 0.7969 - val_loss: 0.5252 - val_accuracy: 0.8130\n",
      "Epoch 7/20\n",
      "878/878 [==============================] - ETA: 0s - loss: 0.5515 - accuracy: 0.8022\n",
      "Epoch 00007: loss improved from 0.57084 to 0.55146, saving model to nextword1.h5\n",
      "878/878 [==============================] - 1168s 1s/step - loss: 0.5515 - accuracy: 0.8022 - val_loss: 0.5253 - val_accuracy: 0.8143\n",
      "Epoch 8/20\n",
      "878/878 [==============================] - ETA: 0s - loss: 0.5401 - accuracy: 0.8071\n",
      "Epoch 00008: loss improved from 0.55146 to 0.54010, saving model to nextword1.h5\n",
      "878/878 [==============================] - 1168s 1s/step - loss: 0.5401 - accuracy: 0.8071 - val_loss: 0.5134 - val_accuracy: 0.8130\n",
      "Epoch 9/20\n",
      "878/878 [==============================] - ETA: 0s - loss: 0.5115 - accuracy: 0.8193\n",
      "Epoch 00009: loss improved from 0.54010 to 0.51150, saving model to nextword1.h5\n",
      "878/878 [==============================] - 1169s 1s/step - loss: 0.5115 - accuracy: 0.8193 - val_loss: 0.5447 - val_accuracy: 0.8037\n",
      "Epoch 10/20\n",
      "878/878 [==============================] - ETA: 0s - loss: 0.4997 - accuracy: 0.8206\n",
      "Epoch 00010: loss improved from 0.51150 to 0.49972, saving model to nextword1.h5\n",
      "878/878 [==============================] - 1167s 1s/step - loss: 0.4997 - accuracy: 0.8206 - val_loss: 0.5036 - val_accuracy: 0.8190\n",
      "Epoch 11/20\n",
      "878/878 [==============================] - ETA: 0s - loss: 0.4811 - accuracy: 0.8312\n",
      "Epoch 00011: loss improved from 0.49972 to 0.48113, saving model to nextword1.h5\n",
      "878/878 [==============================] - 1168s 1s/step - loss: 0.4811 - accuracy: 0.8312 - val_loss: 0.4415 - val_accuracy: 0.8410\n",
      "Epoch 12/20\n",
      "878/878 [==============================] - ETA: 0s - loss: 0.4713 - accuracy: 0.8365\n",
      "Epoch 00012: loss improved from 0.48113 to 0.47134, saving model to nextword1.h5\n",
      "878/878 [==============================] - 1168s 1s/step - loss: 0.4713 - accuracy: 0.8365 - val_loss: 0.5125 - val_accuracy: 0.8103\n",
      "Epoch 13/20\n",
      "878/878 [==============================] - ETA: 0s - loss: 0.4606 - accuracy: 0.8366\n",
      "Epoch 00013: loss improved from 0.47134 to 0.46061, saving model to nextword1.h5\n",
      "878/878 [==============================] - 1168s 1s/step - loss: 0.4606 - accuracy: 0.8366 - val_loss: 0.4712 - val_accuracy: 0.8337\n",
      "Epoch 14/20\n",
      "878/878 [==============================] - ETA: 0s - loss: 0.4451 - accuracy: 0.8431\n",
      "Epoch 00014: loss improved from 0.46061 to 0.44511, saving model to nextword1.h5\n",
      "878/878 [==============================] - 1175s 1s/step - loss: 0.4451 - accuracy: 0.8431 - val_loss: 0.4438 - val_accuracy: 0.8413\n",
      "Epoch 15/20\n",
      "878/878 [==============================] - ETA: 0s - loss: 0.4390 - accuracy: 0.8454\n",
      "Epoch 00015: loss improved from 0.44511 to 0.43904, saving model to nextword1.h5\n",
      "878/878 [==============================] - 1168s 1s/step - loss: 0.4390 - accuracy: 0.8454 - val_loss: 0.4378 - val_accuracy: 0.8513\n",
      "Epoch 16/20\n",
      "878/878 [==============================] - ETA: 0s - loss: 0.4323 - accuracy: 0.8490\n",
      "Epoch 00016: loss improved from 0.43904 to 0.43229, saving model to nextword1.h5\n",
      "878/878 [==============================] - 1169s 1s/step - loss: 0.4323 - accuracy: 0.8490 - val_loss: 0.4600 - val_accuracy: 0.8387\n",
      "Epoch 17/20\n",
      "878/878 [==============================] - ETA: 0s - loss: 0.4170 - accuracy: 0.8528\n",
      "Epoch 00017: loss improved from 0.43229 to 0.41703, saving model to nextword1.h5\n",
      "878/878 [==============================] - 1167s 1s/step - loss: 0.4170 - accuracy: 0.8528 - val_loss: 0.4270 - val_accuracy: 0.8477\n",
      "Epoch 18/20\n",
      "878/878 [==============================] - ETA: 0s - loss: 0.4212 - accuracy: 0.8510\n",
      "Epoch 00018: loss did not improve from 0.41703\n",
      "878/878 [==============================] - 1169s 1s/step - loss: 0.4212 - accuracy: 0.8510 - val_loss: 0.4438 - val_accuracy: 0.8380\n",
      "Epoch 19/20\n",
      "878/878 [==============================] - ETA: 0s - loss: 0.4146 - accuracy: 0.8535\n",
      "Epoch 00019: loss improved from 0.41703 to 0.41464, saving model to nextword1.h5\n",
      "878/878 [==============================] - 1173s 1s/step - loss: 0.4146 - accuracy: 0.8535 - val_loss: 0.4834 - val_accuracy: 0.8350\n",
      "Epoch 20/20\n",
      "878/878 [==============================] - ETA: 0s - loss: 0.4030 - accuracy: 0.8591\n",
      "Epoch 00020: loss improved from 0.41464 to 0.40304, saving model to nextword1.h5\n",
      "878/878 [==============================] - 1178s 1s/step - loss: 0.4030 - accuracy: 0.8591 - val_loss: 0.4776 - val_accuracy: 0.8423\n"
     ]
    }
   ],
   "source": [
    "results1 = model.fit_generator(train_image_gen1,validation_data=test_image_gen1,callbacks=[early_stop,checkpoint],epochs=20)  "
   ]
  },
  {
   "cell_type": "code",
   "execution_count": null,
   "metadata": {},
   "outputs": [],
   "source": []
  },
  {
   "cell_type": "code",
   "execution_count": 22,
   "metadata": {},
   "outputs": [
    {
     "data": {
      "image/png": "[encoded data removed]",
      "text/plain": [
       "<Figure size 432x288 with 1 Axes>"
      ]
     },
     "metadata": {
      "needs_background": "light"
     },
     "output_type": "display_data"
    },
    {
     "data": {
      "image/png": "[encoded data removed]",
      "text/plain": [
       "<Figure size 432x288 with 1 Axes>"
      ]
     },
     "metadata": {
      "needs_background": "light"
     },
     "output_type": "display_data"
    }
   ],
   "source": [
    "#test_eval5 = mdl5.evaluate(test_X, test_Y_one_hot, verbose=0)\n",
    "\n",
    "#print('Test loss:', test_eval5[0])\n",
    "#print('Test accuracy:', test_eval5[1])\n",
    "\n",
    "accuracy = results1.history['accuracy']\n",
    "val_accuracy = results1.history['val_accuracy']\n",
    "loss = results1.history['loss']\n",
    "val_loss = results1.history['val_loss']\n",
    "\n",
    "epochs = range(len(accuracy))\n",
    "\n",
    "plt.plot(epochs, accuracy, 'ro', label='Training accuracy')\n",
    "plt.plot(epochs, val_accuracy, 'r', label='Validation accuracy')\n",
    "plt.title('Training and validation accuracy')\n",
    "plt.legend()\n",
    "\n",
    "plt.figure()\n",
    "\n",
    "plt.plot(epochs, loss, 'ro', label='Training loss')\n",
    "plt.plot(epochs, val_loss, 'r', label='Validation loss')\n",
    "plt.title('Training and validation loss')\n",
    "plt.legend()\n",
    "plt.show()"
   ]
  },
  {
   "cell_type": "code",
   "execution_count": 23,
   "metadata": {},
   "outputs": [
    {
     "name": "stdout",
     "output_type": "stream",
     "text": [
      "WARNING:tensorflow:From <ipython-input-23-4ed97e04704f>:1: Model.predict_generator (from tensorflow.python.keras.engine.training) is deprecated and will be removed in a future version.\n",
      "Instructions for updating:\n",
      "Please use Model.predict, which supports generators.\n"
     ]
    }
   ],
   "source": [
    "pred_prob = model.predict_generator(test_image_gen)"
   ]
  },
  {
   "cell_type": "code",
   "execution_count": 24,
   "metadata": {},
   "outputs": [
    {
     "data": {
      "text/plain": [
       "array([[9.99984860e-01, 3.96088717e-09, 5.16228944e-08, 3.37869843e-09,\n",
       "        2.69093583e-08, 1.51447530e-05],\n",
       "       [4.79624361e-01, 1.26815678e-04, 1.34581962e-04, 2.15307796e-06,\n",
       "        1.28447355e-05, 5.20099282e-01],\n",
       "       [9.76820230e-01, 1.60854925e-05, 4.50867956e-04, 4.15621907e-05,\n",
       "        2.21274397e-03, 2.04584636e-02],\n",
       "       ...,\n",
       "       [2.71240659e-02, 3.70549634e-02, 5.37769310e-02, 3.47257912e-01,\n",
       "        4.83914852e-01, 5.08712083e-02],\n",
       "       [6.80515349e-01, 3.24069624e-05, 4.63239354e-04, 1.78012192e-06,\n",
       "        3.28805123e-04, 3.18658501e-01],\n",
       "       [2.43094824e-02, 1.59646384e-04, 9.35541393e-05, 1.56710229e-07,\n",
       "        2.56015710e-06, 9.75434601e-01]], dtype=float32)"
      ]
     },
     "execution_count": 24,
     "metadata": {},
     "output_type": "execute_result"
    }
   ],
   "source": [
    "pred_prob"
   ]
  },
  {
   "cell_type": "code",
   "execution_count": 25,
   "metadata": {},
   "outputs": [],
   "source": [
    "predictions = np.argmax(pred_prob,axis=1)"
   ]
  },
  {
   "cell_type": "code",
   "execution_count": 26,
   "metadata": {},
   "outputs": [
    {
     "data": {
      "text/plain": [
       "array([0, 5, 0, ..., 4, 0, 5], dtype=int64)"
      ]
     },
     "execution_count": 26,
     "metadata": {},
     "output_type": "execute_result"
    }
   ],
   "source": [
    "predictions"
   ]
  },
  {
   "cell_type": "code",
   "execution_count": 27,
   "metadata": {},
   "outputs": [
    {
     "name": "stdout",
     "output_type": "stream",
     "text": [
      "              precision    recall  f1-score   support\n",
      "\n",
      "           0       0.72      0.91      0.81       437\n",
      "           1       0.96      0.97      0.97       474\n",
      "           2       0.83      0.77      0.80       553\n",
      "           3       0.79      0.79      0.79       525\n",
      "           4       0.88      0.79      0.83       510\n",
      "           5       0.87      0.83      0.85       501\n",
      "\n",
      "    accuracy                           0.84      3000\n",
      "   macro avg       0.84      0.84      0.84      3000\n",
      "weighted avg       0.85      0.84      0.84      3000\n",
      "\n"
     ]
    }
   ],
   "source": [
    "from sklearn.metrics import classification_report,confusion_matrix\n",
    "print(classification_report(test_image_gen.classes,predictions))"
   ]
  },
  {
   "cell_type": "code",
   "execution_count": 28,
   "metadata": {},
   "outputs": [
    {
     "name": "stdout",
     "output_type": "stream",
     "text": [
      "[[398   1   0   2   4  32]\n",
      " [  7 459   1   2   1   4]\n",
      " [ 22   4 427  68  24   8]\n",
      " [ 19   3  61 416  20   6]\n",
      " [ 33   3  22  34 403  15]\n",
      " [ 70   6   1   2   5 417]]\n"
     ]
    }
   ],
   "source": [
    "print(confusion_matrix(test_image_gen.classes,predictions))"
   ]
  },
  {
   "cell_type": "code",
   "execution_count": 70,
   "metadata": {},
   "outputs": [
    {
     "data": {
      "text/plain": [
       "3000"
      ]
     },
     "execution_count": 70,
     "metadata": {},
     "output_type": "execute_result"
    }
   ],
   "source": [
    "test_image_gen1.samples\n",
    "\n"
   ]
  },
  {
   "cell_type": "code",
   "execution_count": 29,
   "metadata": {},
   "outputs": [],
   "source": [
    "img_name = '101.jpg'"
   ]
  },
  {
   "cell_type": "code",
   "execution_count": 37,
   "metadata": {},
   "outputs": [],
   "source": [
    "pred_img_path = f'C:\\\\Users\\\\karan\\\\Desktop\\\\Rahul-Codes\\\\directory\\\\DataSciencePython\\\\DeepLearning\\\\CNN\\\\notebooks\\\\intel\\\\seg_pred\\\\seg_pred\\\\{img_name}'\n"
   ]
  },
  {
   "cell_type": "code",
   "execution_count": 38,
   "metadata": {},
   "outputs": [],
   "source": [
    "from tensorflow.keras.preprocessing import image"
   ]
  },
  {
   "cell_type": "code",
   "execution_count": 40,
   "metadata": {},
   "outputs": [],
   "source": [
    "pred_img = image.load_img(pred_img_path,target_size=(150,150))"
   ]
  },
  {
   "cell_type": "code",
   "execution_count": 41,
   "metadata": {},
   "outputs": [
    {
     "data": {
      "image/png": "[encoded data removed]",
      "text/plain": [
       "<PIL.JpegImagePlugin.JpegImageFile image mode=RGB size=150x150 at 0x188A3610>"
      ]
     },
     "execution_count": 41,
     "metadata": {},
     "output_type": "execute_result"
    }
   ],
   "source": [
    "pred_img"
   ]
  },
  {
   "cell_type": "code",
   "execution_count": 42,
   "metadata": {},
   "outputs": [],
   "source": [
    "pred_img_arr = image.img_to_array(pred_img)"
   ]
  },
  {
   "cell_type": "code",
   "execution_count": 43,
   "metadata": {},
   "outputs": [
    {
     "data": {
      "text/plain": [
       "(150, 150, 3)"
      ]
     },
     "execution_count": 43,
     "metadata": {},
     "output_type": "execute_result"
    }
   ],
   "source": [
    "pred_img_arr.shape"
   ]
  },
  {
   "cell_type": "code",
   "execution_count": 44,
   "metadata": {},
   "outputs": [],
   "source": [
    "pred_img_arr = pred_img_arr.reshape(1,150,150,3)"
   ]
  },
  {
   "cell_type": "code",
   "execution_count": 45,
   "metadata": {},
   "outputs": [
    {
     "data": {
      "text/plain": [
       "(1, 150, 150, 3)"
      ]
     },
     "execution_count": 45,
     "metadata": {},
     "output_type": "execute_result"
    }
   ],
   "source": [
    "pred_img_arr.shape"
   ]
  },
  {
   "cell_type": "code",
   "execution_count": 46,
   "metadata": {},
   "outputs": [],
   "source": [
    "\n",
    "classno = np.argmax(model.predict(pred_img_arr))"
   ]
  },
  {
   "cell_type": "code",
   "execution_count": 47,
   "metadata": {},
   "outputs": [],
   "source": [
    "class_dict = train_image_gen.class_indices"
   ]
  },
  {
   "cell_type": "code",
   "execution_count": 48,
   "metadata": {},
   "outputs": [
    {
     "data": {
      "text/plain": [
       "{'buildings': 0,\n",
       " 'forest': 1,\n",
       " 'glacier': 2,\n",
       " 'mountain': 3,\n",
       " 'sea': 4,\n",
       " 'street': 5}"
      ]
     },
     "execution_count": 48,
     "metadata": {},
     "output_type": "execute_result"
    }
   ],
   "source": [
    "class_dict"
   ]
  },
  {
   "cell_type": "code",
   "execution_count": 52,
   "metadata": {},
   "outputs": [
    {
     "name": "stdout",
     "output_type": "stream",
     "text": [
      "buildings\n"
     ]
    }
   ],
   "source": [
    "for key in class_dict:\n",
    "    if class_dict[key] == classno:\n",
    "        print(key)"
   ]
  },
  {
   "cell_type": "code",
   "execution_count": null,
   "metadata": {},
   "outputs": [],
   "source": []
  }
 ],
 "metadata": {
  "kernelspec": {
   "display_name": "Python 3",
   "language": "python",
   "name": "python3"
  },
  "language_info": {
   "codemirror_mode": {
    "name": "ipython",
    "version": 3
   },
   "file_extension": ".py",
   "mimetype": "text/x-python",
   "name": "python",
   "nbconvert_exporter": "python",
   "pygments_lexer": "ipython3",
   "version": "3.8.3"
  }
 },
 "nbformat": 4,
 "nbformat_minor": 4
}
