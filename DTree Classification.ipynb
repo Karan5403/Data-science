{
 "cells": [
  {
   "cell_type": "code",
   "execution_count": 1,
   "metadata": {},
   "outputs": [],
   "source": [
    "import pandas as pd\n",
    "import numpy as np\n"
   ]
  },
  {
   "cell_type": "code",
   "execution_count": 2,
   "metadata": {},
   "outputs": [],
   "source": [
    "from sklearn.datasets import load_breast_cancer\n",
    "\n",
    "#object\n",
    "dt= load_breast_cancer()\n",
    "\n",
    "X=dt.data\n",
    "Y=dt.target\n"
   ]
  },
  {
   "cell_type": "code",
   "execution_count": 3,
   "metadata": {},
   "outputs": [
    {
     "data": {
      "text/html": [
       "<div>\n",
       "<style scoped>\n",
       "    .dataframe tbody tr th:only-of-type {\n",
       "        vertical-align: middle;\n",
       "    }\n",
       "\n",
       "    .dataframe tbody tr th {\n",
       "        vertical-align: top;\n",
       "    }\n",
       "\n",
       "    .dataframe thead th {\n",
       "        text-align: right;\n",
       "    }\n",
       "</style>\n",
       "<table border=\"1\" class=\"dataframe\">\n",
       "  <thead>\n",
       "    <tr style=\"text-align: right;\">\n",
       "      <th></th>\n",
       "      <th>mean radius</th>\n",
       "      <th>mean texture</th>\n",
       "      <th>mean perimeter</th>\n",
       "      <th>mean area</th>\n",
       "      <th>mean smoothness</th>\n",
       "      <th>mean compactness</th>\n",
       "      <th>mean concavity</th>\n",
       "      <th>mean concave points</th>\n",
       "      <th>mean symmetry</th>\n",
       "      <th>mean fractal dimension</th>\n",
       "      <th>...</th>\n",
       "      <th>worst radius</th>\n",
       "      <th>worst texture</th>\n",
       "      <th>worst perimeter</th>\n",
       "      <th>worst area</th>\n",
       "      <th>worst smoothness</th>\n",
       "      <th>worst compactness</th>\n",
       "      <th>worst concavity</th>\n",
       "      <th>worst concave points</th>\n",
       "      <th>worst symmetry</th>\n",
       "      <th>worst fractal dimension</th>\n",
       "    </tr>\n",
       "  </thead>\n",
       "  <tbody>\n",
       "    <tr>\n",
       "      <th>0</th>\n",
       "      <td>17.99</td>\n",
       "      <td>10.38</td>\n",
       "      <td>122.80</td>\n",
       "      <td>1001.0</td>\n",
       "      <td>0.11840</td>\n",
       "      <td>0.27760</td>\n",
       "      <td>0.30010</td>\n",
       "      <td>0.14710</td>\n",
       "      <td>0.2419</td>\n",
       "      <td>0.07871</td>\n",
       "      <td>...</td>\n",
       "      <td>25.380</td>\n",
       "      <td>17.33</td>\n",
       "      <td>184.60</td>\n",
       "      <td>2019.0</td>\n",
       "      <td>0.16220</td>\n",
       "      <td>0.66560</td>\n",
       "      <td>0.7119</td>\n",
       "      <td>0.2654</td>\n",
       "      <td>0.4601</td>\n",
       "      <td>0.11890</td>\n",
       "    </tr>\n",
       "    <tr>\n",
       "      <th>1</th>\n",
       "      <td>20.57</td>\n",
       "      <td>17.77</td>\n",
       "      <td>132.90</td>\n",
       "      <td>1326.0</td>\n",
       "      <td>0.08474</td>\n",
       "      <td>0.07864</td>\n",
       "      <td>0.08690</td>\n",
       "      <td>0.07017</td>\n",
       "      <td>0.1812</td>\n",
       "      <td>0.05667</td>\n",
       "      <td>...</td>\n",
       "      <td>24.990</td>\n",
       "      <td>23.41</td>\n",
       "      <td>158.80</td>\n",
       "      <td>1956.0</td>\n",
       "      <td>0.12380</td>\n",
       "      <td>0.18660</td>\n",
       "      <td>0.2416</td>\n",
       "      <td>0.1860</td>\n",
       "      <td>0.2750</td>\n",
       "      <td>0.08902</td>\n",
       "    </tr>\n",
       "    <tr>\n",
       "      <th>2</th>\n",
       "      <td>19.69</td>\n",
       "      <td>21.25</td>\n",
       "      <td>130.00</td>\n",
       "      <td>1203.0</td>\n",
       "      <td>0.10960</td>\n",
       "      <td>0.15990</td>\n",
       "      <td>0.19740</td>\n",
       "      <td>0.12790</td>\n",
       "      <td>0.2069</td>\n",
       "      <td>0.05999</td>\n",
       "      <td>...</td>\n",
       "      <td>23.570</td>\n",
       "      <td>25.53</td>\n",
       "      <td>152.50</td>\n",
       "      <td>1709.0</td>\n",
       "      <td>0.14440</td>\n",
       "      <td>0.42450</td>\n",
       "      <td>0.4504</td>\n",
       "      <td>0.2430</td>\n",
       "      <td>0.3613</td>\n",
       "      <td>0.08758</td>\n",
       "    </tr>\n",
       "    <tr>\n",
       "      <th>3</th>\n",
       "      <td>11.42</td>\n",
       "      <td>20.38</td>\n",
       "      <td>77.58</td>\n",
       "      <td>386.1</td>\n",
       "      <td>0.14250</td>\n",
       "      <td>0.28390</td>\n",
       "      <td>0.24140</td>\n",
       "      <td>0.10520</td>\n",
       "      <td>0.2597</td>\n",
       "      <td>0.09744</td>\n",
       "      <td>...</td>\n",
       "      <td>14.910</td>\n",
       "      <td>26.50</td>\n",
       "      <td>98.87</td>\n",
       "      <td>567.7</td>\n",
       "      <td>0.20980</td>\n",
       "      <td>0.86630</td>\n",
       "      <td>0.6869</td>\n",
       "      <td>0.2575</td>\n",
       "      <td>0.6638</td>\n",
       "      <td>0.17300</td>\n",
       "    </tr>\n",
       "    <tr>\n",
       "      <th>4</th>\n",
       "      <td>20.29</td>\n",
       "      <td>14.34</td>\n",
       "      <td>135.10</td>\n",
       "      <td>1297.0</td>\n",
       "      <td>0.10030</td>\n",
       "      <td>0.13280</td>\n",
       "      <td>0.19800</td>\n",
       "      <td>0.10430</td>\n",
       "      <td>0.1809</td>\n",
       "      <td>0.05883</td>\n",
       "      <td>...</td>\n",
       "      <td>22.540</td>\n",
       "      <td>16.67</td>\n",
       "      <td>152.20</td>\n",
       "      <td>1575.0</td>\n",
       "      <td>0.13740</td>\n",
       "      <td>0.20500</td>\n",
       "      <td>0.4000</td>\n",
       "      <td>0.1625</td>\n",
       "      <td>0.2364</td>\n",
       "      <td>0.07678</td>\n",
       "    </tr>\n",
       "    <tr>\n",
       "      <th>...</th>\n",
       "      <td>...</td>\n",
       "      <td>...</td>\n",
       "      <td>...</td>\n",
       "      <td>...</td>\n",
       "      <td>...</td>\n",
       "      <td>...</td>\n",
       "      <td>...</td>\n",
       "      <td>...</td>\n",
       "      <td>...</td>\n",
       "      <td>...</td>\n",
       "      <td>...</td>\n",
       "      <td>...</td>\n",
       "      <td>...</td>\n",
       "      <td>...</td>\n",
       "      <td>...</td>\n",
       "      <td>...</td>\n",
       "      <td>...</td>\n",
       "      <td>...</td>\n",
       "      <td>...</td>\n",
       "      <td>...</td>\n",
       "      <td>...</td>\n",
       "    </tr>\n",
       "    <tr>\n",
       "      <th>564</th>\n",
       "      <td>21.56</td>\n",
       "      <td>22.39</td>\n",
       "      <td>142.00</td>\n",
       "      <td>1479.0</td>\n",
       "      <td>0.11100</td>\n",
       "      <td>0.11590</td>\n",
       "      <td>0.24390</td>\n",
       "      <td>0.13890</td>\n",
       "      <td>0.1726</td>\n",
       "      <td>0.05623</td>\n",
       "      <td>...</td>\n",
       "      <td>25.450</td>\n",
       "      <td>26.40</td>\n",
       "      <td>166.10</td>\n",
       "      <td>2027.0</td>\n",
       "      <td>0.14100</td>\n",
       "      <td>0.21130</td>\n",
       "      <td>0.4107</td>\n",
       "      <td>0.2216</td>\n",
       "      <td>0.2060</td>\n",
       "      <td>0.07115</td>\n",
       "    </tr>\n",
       "    <tr>\n",
       "      <th>565</th>\n",
       "      <td>20.13</td>\n",
       "      <td>28.25</td>\n",
       "      <td>131.20</td>\n",
       "      <td>1261.0</td>\n",
       "      <td>0.09780</td>\n",
       "      <td>0.10340</td>\n",
       "      <td>0.14400</td>\n",
       "      <td>0.09791</td>\n",
       "      <td>0.1752</td>\n",
       "      <td>0.05533</td>\n",
       "      <td>...</td>\n",
       "      <td>23.690</td>\n",
       "      <td>38.25</td>\n",
       "      <td>155.00</td>\n",
       "      <td>1731.0</td>\n",
       "      <td>0.11660</td>\n",
       "      <td>0.19220</td>\n",
       "      <td>0.3215</td>\n",
       "      <td>0.1628</td>\n",
       "      <td>0.2572</td>\n",
       "      <td>0.06637</td>\n",
       "    </tr>\n",
       "    <tr>\n",
       "      <th>566</th>\n",
       "      <td>16.60</td>\n",
       "      <td>28.08</td>\n",
       "      <td>108.30</td>\n",
       "      <td>858.1</td>\n",
       "      <td>0.08455</td>\n",
       "      <td>0.10230</td>\n",
       "      <td>0.09251</td>\n",
       "      <td>0.05302</td>\n",
       "      <td>0.1590</td>\n",
       "      <td>0.05648</td>\n",
       "      <td>...</td>\n",
       "      <td>18.980</td>\n",
       "      <td>34.12</td>\n",
       "      <td>126.70</td>\n",
       "      <td>1124.0</td>\n",
       "      <td>0.11390</td>\n",
       "      <td>0.30940</td>\n",
       "      <td>0.3403</td>\n",
       "      <td>0.1418</td>\n",
       "      <td>0.2218</td>\n",
       "      <td>0.07820</td>\n",
       "    </tr>\n",
       "    <tr>\n",
       "      <th>567</th>\n",
       "      <td>20.60</td>\n",
       "      <td>29.33</td>\n",
       "      <td>140.10</td>\n",
       "      <td>1265.0</td>\n",
       "      <td>0.11780</td>\n",
       "      <td>0.27700</td>\n",
       "      <td>0.35140</td>\n",
       "      <td>0.15200</td>\n",
       "      <td>0.2397</td>\n",
       "      <td>0.07016</td>\n",
       "      <td>...</td>\n",
       "      <td>25.740</td>\n",
       "      <td>39.42</td>\n",
       "      <td>184.60</td>\n",
       "      <td>1821.0</td>\n",
       "      <td>0.16500</td>\n",
       "      <td>0.86810</td>\n",
       "      <td>0.9387</td>\n",
       "      <td>0.2650</td>\n",
       "      <td>0.4087</td>\n",
       "      <td>0.12400</td>\n",
       "    </tr>\n",
       "    <tr>\n",
       "      <th>568</th>\n",
       "      <td>7.76</td>\n",
       "      <td>24.54</td>\n",
       "      <td>47.92</td>\n",
       "      <td>181.0</td>\n",
       "      <td>0.05263</td>\n",
       "      <td>0.04362</td>\n",
       "      <td>0.00000</td>\n",
       "      <td>0.00000</td>\n",
       "      <td>0.1587</td>\n",
       "      <td>0.05884</td>\n",
       "      <td>...</td>\n",
       "      <td>9.456</td>\n",
       "      <td>30.37</td>\n",
       "      <td>59.16</td>\n",
       "      <td>268.6</td>\n",
       "      <td>0.08996</td>\n",
       "      <td>0.06444</td>\n",
       "      <td>0.0000</td>\n",
       "      <td>0.0000</td>\n",
       "      <td>0.2871</td>\n",
       "      <td>0.07039</td>\n",
       "    </tr>\n",
       "  </tbody>\n",
       "</table>\n",
       "<p>569 rows × 30 columns</p>\n",
       "</div>"
      ],
      "text/plain": [
       "     mean radius  mean texture  mean perimeter  mean area  mean smoothness  \\\n",
       "0          17.99         10.38          122.80     1001.0          0.11840   \n",
       "1          20.57         17.77          132.90     1326.0          0.08474   \n",
       "2          19.69         21.25          130.00     1203.0          0.10960   \n",
       "3          11.42         20.38           77.58      386.1          0.14250   \n",
       "4          20.29         14.34          135.10     1297.0          0.10030   \n",
       "..           ...           ...             ...        ...              ...   \n",
       "564        21.56         22.39          142.00     1479.0          0.11100   \n",
       "565        20.13         28.25          131.20     1261.0          0.09780   \n",
       "566        16.60         28.08          108.30      858.1          0.08455   \n",
       "567        20.60         29.33          140.10     1265.0          0.11780   \n",
       "568         7.76         24.54           47.92      181.0          0.05263   \n",
       "\n",
       "     mean compactness  mean concavity  mean concave points  mean symmetry  \\\n",
       "0             0.27760         0.30010              0.14710         0.2419   \n",
       "1             0.07864         0.08690              0.07017         0.1812   \n",
       "2             0.15990         0.19740              0.12790         0.2069   \n",
       "3             0.28390         0.24140              0.10520         0.2597   \n",
       "4             0.13280         0.19800              0.10430         0.1809   \n",
       "..                ...             ...                  ...            ...   \n",
       "564           0.11590         0.24390              0.13890         0.1726   \n",
       "565           0.10340         0.14400              0.09791         0.1752   \n",
       "566           0.10230         0.09251              0.05302         0.1590   \n",
       "567           0.27700         0.35140              0.15200         0.2397   \n",
       "568           0.04362         0.00000              0.00000         0.1587   \n",
       "\n",
       "     mean fractal dimension  ...  worst radius  worst texture  \\\n",
       "0                   0.07871  ...        25.380          17.33   \n",
       "1                   0.05667  ...        24.990          23.41   \n",
       "2                   0.05999  ...        23.570          25.53   \n",
       "3                   0.09744  ...        14.910          26.50   \n",
       "4                   0.05883  ...        22.540          16.67   \n",
       "..                      ...  ...           ...            ...   \n",
       "564                 0.05623  ...        25.450          26.40   \n",
       "565                 0.05533  ...        23.690          38.25   \n",
       "566                 0.05648  ...        18.980          34.12   \n",
       "567                 0.07016  ...        25.740          39.42   \n",
       "568                 0.05884  ...         9.456          30.37   \n",
       "\n",
       "     worst perimeter  worst area  worst smoothness  worst compactness  \\\n",
       "0             184.60      2019.0           0.16220            0.66560   \n",
       "1             158.80      1956.0           0.12380            0.18660   \n",
       "2             152.50      1709.0           0.14440            0.42450   \n",
       "3              98.87       567.7           0.20980            0.86630   \n",
       "4             152.20      1575.0           0.13740            0.20500   \n",
       "..               ...         ...               ...                ...   \n",
       "564           166.10      2027.0           0.14100            0.21130   \n",
       "565           155.00      1731.0           0.11660            0.19220   \n",
       "566           126.70      1124.0           0.11390            0.30940   \n",
       "567           184.60      1821.0           0.16500            0.86810   \n",
       "568            59.16       268.6           0.08996            0.06444   \n",
       "\n",
       "     worst concavity  worst concave points  worst symmetry  \\\n",
       "0             0.7119                0.2654          0.4601   \n",
       "1             0.2416                0.1860          0.2750   \n",
       "2             0.4504                0.2430          0.3613   \n",
       "3             0.6869                0.2575          0.6638   \n",
       "4             0.4000                0.1625          0.2364   \n",
       "..               ...                   ...             ...   \n",
       "564           0.4107                0.2216          0.2060   \n",
       "565           0.3215                0.1628          0.2572   \n",
       "566           0.3403                0.1418          0.2218   \n",
       "567           0.9387                0.2650          0.4087   \n",
       "568           0.0000                0.0000          0.2871   \n",
       "\n",
       "     worst fractal dimension  \n",
       "0                    0.11890  \n",
       "1                    0.08902  \n",
       "2                    0.08758  \n",
       "3                    0.17300  \n",
       "4                    0.07678  \n",
       "..                       ...  \n",
       "564                  0.07115  \n",
       "565                  0.06637  \n",
       "566                  0.07820  \n",
       "567                  0.12400  \n",
       "568                  0.07039  \n",
       "\n",
       "[569 rows x 30 columns]"
      ]
     },
     "execution_count": 3,
     "metadata": {},
     "output_type": "execute_result"
    }
   ],
   "source": [
    "df_x=pd.DataFrame(X,columns=dt.feature_names)\n",
    "df_x"
   ]
  },
  {
   "cell_type": "code",
   "execution_count": 4,
   "metadata": {},
   "outputs": [
    {
     "data": {
      "text/html": [
       "<div>\n",
       "<style scoped>\n",
       "    .dataframe tbody tr th:only-of-type {\n",
       "        vertical-align: middle;\n",
       "    }\n",
       "\n",
       "    .dataframe tbody tr th {\n",
       "        vertical-align: top;\n",
       "    }\n",
       "\n",
       "    .dataframe thead th {\n",
       "        text-align: right;\n",
       "    }\n",
       "</style>\n",
       "<table border=\"1\" class=\"dataframe\">\n",
       "  <thead>\n",
       "    <tr style=\"text-align: right;\">\n",
       "      <th></th>\n",
       "      <th>target</th>\n",
       "    </tr>\n",
       "  </thead>\n",
       "  <tbody>\n",
       "    <tr>\n",
       "      <th>0</th>\n",
       "      <td>0</td>\n",
       "    </tr>\n",
       "    <tr>\n",
       "      <th>1</th>\n",
       "      <td>0</td>\n",
       "    </tr>\n",
       "    <tr>\n",
       "      <th>2</th>\n",
       "      <td>0</td>\n",
       "    </tr>\n",
       "    <tr>\n",
       "      <th>3</th>\n",
       "      <td>0</td>\n",
       "    </tr>\n",
       "    <tr>\n",
       "      <th>4</th>\n",
       "      <td>0</td>\n",
       "    </tr>\n",
       "    <tr>\n",
       "      <th>...</th>\n",
       "      <td>...</td>\n",
       "    </tr>\n",
       "    <tr>\n",
       "      <th>564</th>\n",
       "      <td>0</td>\n",
       "    </tr>\n",
       "    <tr>\n",
       "      <th>565</th>\n",
       "      <td>0</td>\n",
       "    </tr>\n",
       "    <tr>\n",
       "      <th>566</th>\n",
       "      <td>0</td>\n",
       "    </tr>\n",
       "    <tr>\n",
       "      <th>567</th>\n",
       "      <td>0</td>\n",
       "    </tr>\n",
       "    <tr>\n",
       "      <th>568</th>\n",
       "      <td>1</td>\n",
       "    </tr>\n",
       "  </tbody>\n",
       "</table>\n",
       "<p>569 rows × 1 columns</p>\n",
       "</div>"
      ],
      "text/plain": [
       "     target\n",
       "0         0\n",
       "1         0\n",
       "2         0\n",
       "3         0\n",
       "4         0\n",
       "..      ...\n",
       "564       0\n",
       "565       0\n",
       "566       0\n",
       "567       0\n",
       "568       1\n",
       "\n",
       "[569 rows x 1 columns]"
      ]
     },
     "execution_count": 4,
     "metadata": {},
     "output_type": "execute_result"
    }
   ],
   "source": [
    "df_y=pd.DataFrame(Y,columns=[\"target\"])\n",
    "df_y"
   ]
  },
  {
   "cell_type": "code",
   "execution_count": 5,
   "metadata": {},
   "outputs": [],
   "source": [
    "from sklearn.model_selection import train_test_split\n",
    "\n",
    "# Split dataset into training set and test set\n",
    "X_train, X_test, y_train, y_test = train_test_split(df_x,df_y, test_size=0.2) # "
   ]
  },
  {
   "cell_type": "markdown",
   "metadata": {},
   "source": [
    "# Model train and test"
   ]
  },
  {
   "cell_type": "code",
   "execution_count": 6,
   "metadata": {},
   "outputs": [
    {
     "data": {
      "text/plain": [
       "DecisionTreeClassifier(max_depth=3)"
      ]
     },
     "execution_count": 6,
     "metadata": {},
     "output_type": "execute_result"
    }
   ],
   "source": [
    "# import the regressor \n",
    "from sklearn.tree import DecisionTreeClassifier  \n",
    "  \n",
    "# create a regressor object \n",
    "#regressor = DecisionTreeClassifier(random_state = 0, max_depth=3)  \n",
    "\n",
    "\n",
    "regressor = DecisionTreeClassifier(max_depth=3) #max_depth is maximum number of levels in the tree\n",
    "regressor.fit(X_train,y_train)"
   ]
  },
  {
   "cell_type": "code",
   "execution_count": 9,
   "metadata": {},
   "outputs": [
    {
     "ename": "NameError",
     "evalue": "name 'plot_tree' is not defined",
     "output_type": "error",
     "traceback": [
      "\u001b[1;31m---------------------------------------------------------------------------\u001b[0m",
      "\u001b[1;31mNameError\u001b[0m                                 Traceback (most recent call last)",
      "\u001b[1;32m<ipython-input-9-40c0842a04c4>\u001b[0m in \u001b[0;36m<module>\u001b[1;34m\u001b[0m\n\u001b[0;32m      1\u001b[0m \u001b[1;32mimport\u001b[0m \u001b[0mmatplotlib\u001b[0m\u001b[1;33m.\u001b[0m\u001b[0mpyplot\u001b[0m \u001b[1;32mas\u001b[0m \u001b[0mplt\u001b[0m\u001b[1;33m\u001b[0m\u001b[1;33m\u001b[0m\u001b[0m\n\u001b[0;32m      2\u001b[0m \u001b[0mplt\u001b[0m\u001b[1;33m.\u001b[0m\u001b[0mfigure\u001b[0m\u001b[1;33m(\u001b[0m\u001b[0mfigsize\u001b[0m\u001b[1;33m=\u001b[0m\u001b[1;33m(\u001b[0m\u001b[1;36m25\u001b[0m\u001b[1;33m,\u001b[0m\u001b[1;36m10\u001b[0m\u001b[1;33m)\u001b[0m\u001b[1;33m)\u001b[0m\u001b[1;33m\u001b[0m\u001b[1;33m\u001b[0m\u001b[0m\n\u001b[1;32m----> 3\u001b[1;33m a = plot_tree(clf, \n\u001b[0m\u001b[0;32m      4\u001b[0m               \u001b[0mfeature_names\u001b[0m\u001b[1;33m=\u001b[0m\u001b[0mbreast_cancer\u001b[0m\u001b[1;33m.\u001b[0m\u001b[0mfeature_names\u001b[0m\u001b[1;33m,\u001b[0m\u001b[1;33m\u001b[0m\u001b[1;33m\u001b[0m\u001b[0m\n\u001b[0;32m      5\u001b[0m               \u001b[0mclass_names\u001b[0m\u001b[1;33m=\u001b[0m\u001b[0mbreast_cancer\u001b[0m\u001b[1;33m.\u001b[0m\u001b[0mtarget_names\u001b[0m\u001b[1;33m,\u001b[0m\u001b[1;33m\u001b[0m\u001b[1;33m\u001b[0m\u001b[0m\n",
      "\u001b[1;31mNameError\u001b[0m: name 'plot_tree' is not defined"
     ]
    },
    {
     "data": {
      "text/plain": [
       "<Figure size 1800x720 with 0 Axes>"
      ]
     },
     "metadata": {},
     "output_type": "display_data"
    }
   ],
   "source": [
    "\n",
    "import matplotlib.pyplot as plt\n",
    "plt.figure(figsize=(25,10))\n",
    "a = plot_tree(clf, \n",
    "              feature_names=breast_cancer.feature_names, \n",
    "              class_names=breast_cancer.target_names, \n",
    "              filled=True, \n",
    "              rounded=True, \n",
    "              fontsize=14)\n"
   ]
  },
  {
   "cell_type": "code",
   "execution_count": null,
   "metadata": {},
   "outputs": [],
   "source": [
    "regressor.feature_importances_"
   ]
  },
  {
   "cell_type": "code",
   "execution_count": null,
   "metadata": {},
   "outputs": [],
   "source": [
    "regressor.get_depth()\n",
    "\n",
    "\n",
    "\n"
   ]
  },
  {
   "cell_type": "code",
   "execution_count": 10,
   "metadata": {},
   "outputs": [],
   "source": [
    "# PLOT DTREE"
   ]
  },
  {
   "cell_type": "code",
   "execution_count": 11,
   "metadata": {},
   "outputs": [],
   "source": [
    "import pandas as pd\n",
    "import numpy as np\n",
    "\n",
    "#import this for tree plot\n",
    "import matplotlib.pyplot as plt\n",
    "from sklearn import tree\n",
    "\n"
   ]
  },
  {
   "cell_type": "code",
   "execution_count": 12,
   "metadata": {},
   "outputs": [
    {
     "data": {
      "text/plain": [
       "[Text(167.4, 190.26, 'X[22] <= 114.45\\ngini = 0.463\\nsamples = 455\\nvalue = [166, 289]'),\n",
       " Text(83.7, 135.9, 'X[27] <= 0.136\\ngini = 0.177\\nsamples = 315\\nvalue = [31, 284]'),\n",
       " Text(41.85, 81.53999999999999, 'X[3] <= 696.25\\ngini = 0.05\\nsamples = 274\\nvalue = [7, 267]'),\n",
       " Text(20.925, 27.180000000000007, 'gini = 0.015\\nsamples = 265\\nvalue = [2, 263]'),\n",
       " Text(62.775000000000006, 27.180000000000007, 'gini = 0.494\\nsamples = 9\\nvalue = [5, 4]'),\n",
       " Text(125.55000000000001, 81.53999999999999, 'X[21] <= 25.67\\ngini = 0.485\\nsamples = 41\\nvalue = [24, 17]'),\n",
       " Text(104.625, 27.180000000000007, 'gini = 0.346\\nsamples = 18\\nvalue = [4, 14]'),\n",
       " Text(146.475, 27.180000000000007, 'gini = 0.227\\nsamples = 23\\nvalue = [20, 3]'),\n",
       " Text(251.10000000000002, 135.9, 'X[19] <= 0.002\\ngini = 0.069\\nsamples = 140\\nvalue = [135, 5]'),\n",
       " Text(209.25, 81.53999999999999, 'X[23] <= 1214.0\\ngini = 0.375\\nsamples = 4\\nvalue = [1, 3]'),\n",
       " Text(188.32500000000002, 27.180000000000007, 'gini = 0.0\\nsamples = 3\\nvalue = [0, 3]'),\n",
       " Text(230.175, 27.180000000000007, 'gini = 0.0\\nsamples = 1\\nvalue = [1, 0]'),\n",
       " Text(292.95, 81.53999999999999, 'X[20] <= 15.665\\ngini = 0.029\\nsamples = 136\\nvalue = [134, 2]'),\n",
       " Text(272.02500000000003, 27.180000000000007, 'gini = 0.0\\nsamples = 1\\nvalue = [0, 1]'),\n",
       " Text(313.875, 27.180000000000007, 'gini = 0.015\\nsamples = 135\\nvalue = [134, 1]')]"
      ]
     },
     "execution_count": 12,
     "metadata": {},
     "output_type": "execute_result"
    },
    {
     "data": {
      "image/png": "[encoded data removed]",
      "text/plain": [
       "<Figure size 432x288 with 1 Axes>"
      ]
     },
     "metadata": {
      "needs_background": "light"
     },
     "output_type": "display_data"
    }
   ],
   "source": [
    "\n",
    "tree.plot_tree(regressor,impurity=True)\n",
    "\n"
   ]
  },
  {
   "cell_type": "code",
   "execution_count": 13,
   "metadata": {},
   "outputs": [],
   "source": [
    "#more plots\n",
    "\n",
    "\n",
    "#!conda install python-graphviz"
   ]
  },
  {
   "cell_type": "code",
   "execution_count": 13,
   "metadata": {},
   "outputs": [],
   "source": [
    "tree.export_graphviz(regressor,out_file = 'dtree', \n",
    "                     feature_names = dt.feature_names,label='all',\n",
    "    filled=True,\n",
    "    leaves_parallel=True)\n",
    "#??tree.export_graphviz"
   ]
  },
  {
   "cell_type": "code",
   "execution_count": 14,
   "metadata": {},
   "outputs": [
    {
     "data": {
      "image/svg+xml": [
       "<?xml version=\"1.0\" encoding=\"UTF-8\" standalone=\"no\"?>\r\n",
       "<!DOCTYPE svg PUBLIC \"-//W3C//DTD SVG 1.1//EN\"\r\n",
       " \"http://www.w3.org/Graphics/SVG/1.1/DTD/svg11.dtd\">\r\n",
       "<!-- Generated by graphviz version 2.44.2~dev.20201104.1627 (20201104.1627)\r\n",
       " -->\r\n",
       "<!-- Title: Tree Pages: 1 -->\r\n",
       "<svg width=\"904pt\" height=\"381pt\"\r\n",
       " viewBox=\"0.00 0.00 904.00 380.50\" xmlns=\"http://www.w3.org/2000/svg\" xmlns:xlink=\"http://www.w3.org/1999/xlink\">\r\n",
       "<g id=\"graph0\" class=\"graph\" transform=\"scale(1 1) rotate(0) translate(4 376.5)\">\r\n",
       "<title>Tree</title>\r\n",
       "<polygon fill=\"white\" stroke=\"transparent\" points=\"-4,4 -4,-376.5 900,-376.5 900,4 -4,4\"/>\r\n",
       "<!-- 0 -->\r\n",
       "<g id=\"node1\" class=\"node\">\r\n",
       "<title>0</title>\r\n",
       "<polygon fill=\"#abd5f4\" stroke=\"black\" points=\"543.5,-372.5 378.5,-372.5 378.5,-304.5 543.5,-304.5 543.5,-372.5\"/>\r\n",
       "<text text-anchor=\"middle\" x=\"461\" y=\"-357.3\" font-family=\"Times New Roman,serif\" font-size=\"14.00\">worst perimeter &lt;= 114.45</text>\r\n",
       "<text text-anchor=\"middle\" x=\"461\" y=\"-342.3\" font-family=\"Times New Roman,serif\" font-size=\"14.00\">gini = 0.463</text>\r\n",
       "<text text-anchor=\"middle\" x=\"461\" y=\"-327.3\" font-family=\"Times New Roman,serif\" font-size=\"14.00\">samples = 455</text>\r\n",
       "<text text-anchor=\"middle\" x=\"461\" y=\"-312.3\" font-family=\"Times New Roman,serif\" font-size=\"14.00\">value = [166, 289]</text>\r\n",
       "</g>\r\n",
       "<!-- 1 -->\r\n",
       "<g id=\"node2\" class=\"node\">\r\n",
       "<title>1</title>\r\n",
       "<polygon fill=\"#4fa8e8\" stroke=\"black\" points=\"435.5,-268.5 244.5,-268.5 244.5,-200.5 435.5,-200.5 435.5,-268.5\"/>\r\n",
       "<text text-anchor=\"middle\" x=\"340\" y=\"-253.3\" font-family=\"Times New Roman,serif\" font-size=\"14.00\">worst concave points &lt;= 0.136</text>\r\n",
       "<text text-anchor=\"middle\" x=\"340\" y=\"-238.3\" font-family=\"Times New Roman,serif\" font-size=\"14.00\">gini = 0.177</text>\r\n",
       "<text text-anchor=\"middle\" x=\"340\" y=\"-223.3\" font-family=\"Times New Roman,serif\" font-size=\"14.00\">samples = 315</text>\r\n",
       "<text text-anchor=\"middle\" x=\"340\" y=\"-208.3\" font-family=\"Times New Roman,serif\" font-size=\"14.00\">value = [31, 284]</text>\r\n",
       "</g>\r\n",
       "<!-- 0&#45;&gt;1 -->\r\n",
       "<g id=\"edge1\" class=\"edge\">\r\n",
       "<title>0:&#45;&gt;1:</title>\r\n",
       "<path fill=\"none\" stroke=\"black\" d=\"M421.71,-304.38C410.73,-295.12 398.67,-284.95 387.27,-275.35\"/>\r\n",
       "<polygon fill=\"black\" stroke=\"black\" points=\"389.4,-272.57 379.5,-268.8 384.89,-277.92 389.4,-272.57\"/>\r\n",
       "<text text-anchor=\"middle\" x=\"381.62\" y=\"-290.01\" font-family=\"Times New Roman,serif\" font-size=\"14.00\">True</text>\r\n",
       "</g>\r\n",
       "<!-- 8 -->\r\n",
       "<g id=\"node9\" class=\"node\">\r\n",
       "<title>8</title>\r\n",
       "<polygon fill=\"#e68640\" stroke=\"black\" points=\"658.5,-268.5 461.5,-268.5 461.5,-200.5 658.5,-200.5 658.5,-268.5\"/>\r\n",
       "<text text-anchor=\"middle\" x=\"560\" y=\"-253.3\" font-family=\"Times New Roman,serif\" font-size=\"14.00\">fractal dimension error &lt;= 0.002</text>\r\n",
       "<text text-anchor=\"middle\" x=\"560\" y=\"-238.3\" font-family=\"Times New Roman,serif\" font-size=\"14.00\">gini = 0.069</text>\r\n",
       "<text text-anchor=\"middle\" x=\"560\" y=\"-223.3\" font-family=\"Times New Roman,serif\" font-size=\"14.00\">samples = 140</text>\r\n",
       "<text text-anchor=\"middle\" x=\"560\" y=\"-208.3\" font-family=\"Times New Roman,serif\" font-size=\"14.00\">value = [135, 5]</text>\r\n",
       "</g>\r\n",
       "<!-- 0&#45;&gt;8 -->\r\n",
       "<g id=\"edge8\" class=\"edge\">\r\n",
       "<title>0:&#45;&gt;8:</title>\r\n",
       "<path fill=\"none\" stroke=\"black\" d=\"M493.14,-304.38C501.87,-295.39 511.43,-285.54 520.52,-276.18\"/>\r\n",
       "<polygon fill=\"black\" stroke=\"black\" points=\"523.23,-278.41 527.68,-268.8 518.2,-273.54 523.23,-278.41\"/>\r\n",
       "<text text-anchor=\"middle\" x=\"528.05\" y=\"-290.1\" font-family=\"Times New Roman,serif\" font-size=\"14.00\">False</text>\r\n",
       "</g>\r\n",
       "<!-- 2 -->\r\n",
       "<g id=\"node3\" class=\"node\">\r\n",
       "<title>2</title>\r\n",
       "<polygon fill=\"#3ea0e6\" stroke=\"black\" points=\"235,-164.5 101,-164.5 101,-96.5 235,-96.5 235,-164.5\"/>\r\n",
       "<text text-anchor=\"middle\" x=\"168\" y=\"-149.3\" font-family=\"Times New Roman,serif\" font-size=\"14.00\">mean area &lt;= 696.25</text>\r\n",
       "<text text-anchor=\"middle\" x=\"168\" y=\"-134.3\" font-family=\"Times New Roman,serif\" font-size=\"14.00\">gini = 0.05</text>\r\n",
       "<text text-anchor=\"middle\" x=\"168\" y=\"-119.3\" font-family=\"Times New Roman,serif\" font-size=\"14.00\">samples = 274</text>\r\n",
       "<text text-anchor=\"middle\" x=\"168\" y=\"-104.3\" font-family=\"Times New Roman,serif\" font-size=\"14.00\">value = [7, 267]</text>\r\n",
       "</g>\r\n",
       "<!-- 1&#45;&gt;2 -->\r\n",
       "<g id=\"edge2\" class=\"edge\">\r\n",
       "<title>1:&#45;&gt;2:</title>\r\n",
       "<path fill=\"none\" stroke=\"black\" d=\"M284.16,-200.38C267.7,-190.62 249.56,-179.87 232.6,-169.81\"/>\r\n",
       "<polygon fill=\"black\" stroke=\"black\" points=\"234.24,-166.72 223.86,-164.62 230.67,-172.74 234.24,-166.72\"/>\r\n",
       "</g>\r\n",
       "<!-- 5 -->\r\n",
       "<g id=\"node6\" class=\"node\">\r\n",
       "<title>5</title>\r\n",
       "<polygon fill=\"#f7dac5\" stroke=\"black\" points=\"412,-164.5 268,-164.5 268,-96.5 412,-96.5 412,-164.5\"/>\r\n",
       "<text text-anchor=\"middle\" x=\"340\" y=\"-149.3\" font-family=\"Times New Roman,serif\" font-size=\"14.00\">worst texture &lt;= 25.67</text>\r\n",
       "<text text-anchor=\"middle\" x=\"340\" y=\"-134.3\" font-family=\"Times New Roman,serif\" font-size=\"14.00\">gini = 0.485</text>\r\n",
       "<text text-anchor=\"middle\" x=\"340\" y=\"-119.3\" font-family=\"Times New Roman,serif\" font-size=\"14.00\">samples = 41</text>\r\n",
       "<text text-anchor=\"middle\" x=\"340\" y=\"-104.3\" font-family=\"Times New Roman,serif\" font-size=\"14.00\">value = [24, 17]</text>\r\n",
       "</g>\r\n",
       "<!-- 1&#45;&gt;5 -->\r\n",
       "<g id=\"edge5\" class=\"edge\">\r\n",
       "<title>1:&#45;&gt;5:</title>\r\n",
       "<path fill=\"none\" stroke=\"black\" d=\"M340,-200.38C340,-192.28 340,-183.48 340,-174.97\"/>\r\n",
       "<polygon fill=\"black\" stroke=\"black\" points=\"343.5,-174.8 340,-164.8 336.5,-174.8 343.5,-174.8\"/>\r\n",
       "</g>\r\n",
       "<!-- 3 -->\r\n",
       "<g id=\"node4\" class=\"node\">\r\n",
       "<title>3</title>\r\n",
       "<polygon fill=\"#3b9ee5\" stroke=\"black\" points=\"104,-53 0,-53 0,0 104,0 104,-53\"/>\r\n",
       "<text text-anchor=\"middle\" x=\"52\" y=\"-37.8\" font-family=\"Times New Roman,serif\" font-size=\"14.00\">gini = 0.015</text>\r\n",
       "<text text-anchor=\"middle\" x=\"52\" y=\"-22.8\" font-family=\"Times New Roman,serif\" font-size=\"14.00\">samples = 265</text>\r\n",
       "<text text-anchor=\"middle\" x=\"52\" y=\"-7.8\" font-family=\"Times New Roman,serif\" font-size=\"14.00\">value = [2, 263]</text>\r\n",
       "</g>\r\n",
       "<!-- 2&#45;&gt;3 -->\r\n",
       "<g id=\"edge3\" class=\"edge\">\r\n",
       "<title>2:&#45;&gt;3:</title>\r\n",
       "<path fill=\"none\" stroke=\"black\" d=\"M130.34,-96.38C116.96,-84.62 101.92,-71.39 88.62,-59.7\"/>\r\n",
       "<polygon fill=\"black\" stroke=\"black\" points=\"90.84,-56.99 81.02,-53.02 86.22,-62.25 90.84,-56.99\"/>\r\n",
       "</g>\r\n",
       "<!-- 4 -->\r\n",
       "<g id=\"node5\" class=\"node\">\r\n",
       "<title>4</title>\r\n",
       "<polygon fill=\"#fae6d7\" stroke=\"black\" points=\"213.5,-53 122.5,-53 122.5,0 213.5,0 213.5,-53\"/>\r\n",
       "<text text-anchor=\"middle\" x=\"168\" y=\"-37.8\" font-family=\"Times New Roman,serif\" font-size=\"14.00\">gini = 0.494</text>\r\n",
       "<text text-anchor=\"middle\" x=\"168\" y=\"-22.8\" font-family=\"Times New Roman,serif\" font-size=\"14.00\">samples = 9</text>\r\n",
       "<text text-anchor=\"middle\" x=\"168\" y=\"-7.8\" font-family=\"Times New Roman,serif\" font-size=\"14.00\">value = [5, 4]</text>\r\n",
       "</g>\r\n",
       "<!-- 2&#45;&gt;4 -->\r\n",
       "<g id=\"edge4\" class=\"edge\">\r\n",
       "<title>2:&#45;&gt;4:</title>\r\n",
       "<path fill=\"none\" stroke=\"black\" d=\"M168,-96.38C168,-85.83 168,-74.1 168,-63.35\"/>\r\n",
       "<polygon fill=\"black\" stroke=\"black\" points=\"171.5,-63.02 168,-53.02 164.5,-63.02 171.5,-63.02\"/>\r\n",
       "</g>\r\n",
       "<!-- 6 -->\r\n",
       "<g id=\"node7\" class=\"node\">\r\n",
       "<title>6</title>\r\n",
       "<polygon fill=\"#72b9ec\" stroke=\"black\" points=\"330,-53 232,-53 232,0 330,0 330,-53\"/>\r\n",
       "<text text-anchor=\"middle\" x=\"281\" y=\"-37.8\" font-family=\"Times New Roman,serif\" font-size=\"14.00\">gini = 0.346</text>\r\n",
       "<text text-anchor=\"middle\" x=\"281\" y=\"-22.8\" font-family=\"Times New Roman,serif\" font-size=\"14.00\">samples = 18</text>\r\n",
       "<text text-anchor=\"middle\" x=\"281\" y=\"-7.8\" font-family=\"Times New Roman,serif\" font-size=\"14.00\">value = [4, 14]</text>\r\n",
       "</g>\r\n",
       "<!-- 5&#45;&gt;6 -->\r\n",
       "<g id=\"edge6\" class=\"edge\">\r\n",
       "<title>5:&#45;&gt;6:</title>\r\n",
       "<path fill=\"none\" stroke=\"black\" d=\"M320.84,-96.38C314.42,-85.28 307.24,-72.87 300.77,-61.68\"/>\r\n",
       "<polygon fill=\"black\" stroke=\"black\" points=\"303.8,-59.92 295.76,-53.02 297.74,-63.43 303.8,-59.92\"/>\r\n",
       "</g>\r\n",
       "<!-- 7 -->\r\n",
       "<g id=\"node8\" class=\"node\">\r\n",
       "<title>7</title>\r\n",
       "<polygon fill=\"#e99457\" stroke=\"black\" points=\"446,-53 348,-53 348,0 446,0 446,-53\"/>\r\n",
       "<text text-anchor=\"middle\" x=\"397\" y=\"-37.8\" font-family=\"Times New Roman,serif\" font-size=\"14.00\">gini = 0.227</text>\r\n",
       "<text text-anchor=\"middle\" x=\"397\" y=\"-22.8\" font-family=\"Times New Roman,serif\" font-size=\"14.00\">samples = 23</text>\r\n",
       "<text text-anchor=\"middle\" x=\"397\" y=\"-7.8\" font-family=\"Times New Roman,serif\" font-size=\"14.00\">value = [20, 3]</text>\r\n",
       "</g>\r\n",
       "<!-- 5&#45;&gt;7 -->\r\n",
       "<g id=\"edge7\" class=\"edge\">\r\n",
       "<title>5:&#45;&gt;7:</title>\r\n",
       "<path fill=\"none\" stroke=\"black\" d=\"M358.51,-96.38C364.65,-85.39 371.51,-73.12 377.71,-62.02\"/>\r\n",
       "<polygon fill=\"black\" stroke=\"black\" points=\"380.92,-63.46 382.74,-53.02 374.81,-60.04 380.92,-63.46\"/>\r\n",
       "</g>\r\n",
       "<!-- 9 -->\r\n",
       "<g id=\"node10\" class=\"node\">\r\n",
       "<title>9</title>\r\n",
       "<polygon fill=\"#7bbeee\" stroke=\"black\" points=\"628,-164.5 492,-164.5 492,-96.5 628,-96.5 628,-164.5\"/>\r\n",
       "<text text-anchor=\"middle\" x=\"560\" y=\"-149.3\" font-family=\"Times New Roman,serif\" font-size=\"14.00\">worst area &lt;= 1214.0</text>\r\n",
       "<text text-anchor=\"middle\" x=\"560\" y=\"-134.3\" font-family=\"Times New Roman,serif\" font-size=\"14.00\">gini = 0.375</text>\r\n",
       "<text text-anchor=\"middle\" x=\"560\" y=\"-119.3\" font-family=\"Times New Roman,serif\" font-size=\"14.00\">samples = 4</text>\r\n",
       "<text text-anchor=\"middle\" x=\"560\" y=\"-104.3\" font-family=\"Times New Roman,serif\" font-size=\"14.00\">value = [1, 3]</text>\r\n",
       "</g>\r\n",
       "<!-- 8&#45;&gt;9 -->\r\n",
       "<g id=\"edge9\" class=\"edge\">\r\n",
       "<title>8:&#45;&gt;9:</title>\r\n",
       "<path fill=\"none\" stroke=\"black\" d=\"M560,-200.38C560,-192.28 560,-183.48 560,-174.97\"/>\r\n",
       "<polygon fill=\"black\" stroke=\"black\" points=\"563.5,-174.8 560,-164.8 556.5,-174.8 563.5,-174.8\"/>\r\n",
       "</g>\r\n",
       "<!-- 12 -->\r\n",
       "<g id=\"node13\" class=\"node\">\r\n",
       "<title>12</title>\r\n",
       "<polygon fill=\"#e5833c\" stroke=\"black\" points=\"801.5,-164.5 654.5,-164.5 654.5,-96.5 801.5,-96.5 801.5,-164.5\"/>\r\n",
       "<text text-anchor=\"middle\" x=\"728\" y=\"-149.3\" font-family=\"Times New Roman,serif\" font-size=\"14.00\">worst radius &lt;= 15.665</text>\r\n",
       "<text text-anchor=\"middle\" x=\"728\" y=\"-134.3\" font-family=\"Times New Roman,serif\" font-size=\"14.00\">gini = 0.029</text>\r\n",
       "<text text-anchor=\"middle\" x=\"728\" y=\"-119.3\" font-family=\"Times New Roman,serif\" font-size=\"14.00\">samples = 136</text>\r\n",
       "<text text-anchor=\"middle\" x=\"728\" y=\"-104.3\" font-family=\"Times New Roman,serif\" font-size=\"14.00\">value = [134, 2]</text>\r\n",
       "</g>\r\n",
       "<!-- 8&#45;&gt;12 -->\r\n",
       "<g id=\"edge12\" class=\"edge\">\r\n",
       "<title>8:&#45;&gt;12:</title>\r\n",
       "<path fill=\"none\" stroke=\"black\" d=\"M614.54,-200.38C630.47,-190.71 648.01,-180.06 664.44,-170.09\"/>\r\n",
       "<polygon fill=\"black\" stroke=\"black\" points=\"666.71,-172.81 673.44,-164.62 663.08,-166.82 666.71,-172.81\"/>\r\n",
       "</g>\r\n",
       "<!-- 10 -->\r\n",
       "<g id=\"node11\" class=\"node\">\r\n",
       "<title>10</title>\r\n",
       "<polygon fill=\"#399de5\" stroke=\"black\" points=\"555.5,-53 464.5,-53 464.5,0 555.5,0 555.5,-53\"/>\r\n",
       "<text text-anchor=\"middle\" x=\"510\" y=\"-37.8\" font-family=\"Times New Roman,serif\" font-size=\"14.00\">gini = 0.0</text>\r\n",
       "<text text-anchor=\"middle\" x=\"510\" y=\"-22.8\" font-family=\"Times New Roman,serif\" font-size=\"14.00\">samples = 3</text>\r\n",
       "<text text-anchor=\"middle\" x=\"510\" y=\"-7.8\" font-family=\"Times New Roman,serif\" font-size=\"14.00\">value = [0, 3]</text>\r\n",
       "</g>\r\n",
       "<!-- 9&#45;&gt;10 -->\r\n",
       "<g id=\"edge10\" class=\"edge\">\r\n",
       "<title>9:&#45;&gt;10:</title>\r\n",
       "<path fill=\"none\" stroke=\"black\" d=\"M543.77,-96.38C538.38,-85.39 532.36,-73.12 526.92,-62.02\"/>\r\n",
       "<polygon fill=\"black\" stroke=\"black\" points=\"530.05,-60.46 522.51,-53.02 523.77,-63.54 530.05,-60.46\"/>\r\n",
       "</g>\r\n",
       "<!-- 11 -->\r\n",
       "<g id=\"node12\" class=\"node\">\r\n",
       "<title>11</title>\r\n",
       "<polygon fill=\"#e58139\" stroke=\"black\" points=\"664.5,-53 573.5,-53 573.5,0 664.5,0 664.5,-53\"/>\r\n",
       "<text text-anchor=\"middle\" x=\"619\" y=\"-37.8\" font-family=\"Times New Roman,serif\" font-size=\"14.00\">gini = 0.0</text>\r\n",
       "<text text-anchor=\"middle\" x=\"619\" y=\"-22.8\" font-family=\"Times New Roman,serif\" font-size=\"14.00\">samples = 1</text>\r\n",
       "<text text-anchor=\"middle\" x=\"619\" y=\"-7.8\" font-family=\"Times New Roman,serif\" font-size=\"14.00\">value = [1, 0]</text>\r\n",
       "</g>\r\n",
       "<!-- 9&#45;&gt;11 -->\r\n",
       "<g id=\"edge11\" class=\"edge\">\r\n",
       "<title>9:&#45;&gt;11:</title>\r\n",
       "<path fill=\"none\" stroke=\"black\" d=\"M579.16,-96.38C585.58,-85.28 592.76,-72.87 599.23,-61.68\"/>\r\n",
       "<polygon fill=\"black\" stroke=\"black\" points=\"602.26,-63.43 604.24,-53.02 596.2,-59.92 602.26,-63.43\"/>\r\n",
       "</g>\r\n",
       "<!-- 13 -->\r\n",
       "<g id=\"node14\" class=\"node\">\r\n",
       "<title>13</title>\r\n",
       "<polygon fill=\"#399de5\" stroke=\"black\" points=\"773.5,-53 682.5,-53 682.5,0 773.5,0 773.5,-53\"/>\r\n",
       "<text text-anchor=\"middle\" x=\"728\" y=\"-37.8\" font-family=\"Times New Roman,serif\" font-size=\"14.00\">gini = 0.0</text>\r\n",
       "<text text-anchor=\"middle\" x=\"728\" y=\"-22.8\" font-family=\"Times New Roman,serif\" font-size=\"14.00\">samples = 1</text>\r\n",
       "<text text-anchor=\"middle\" x=\"728\" y=\"-7.8\" font-family=\"Times New Roman,serif\" font-size=\"14.00\">value = [0, 1]</text>\r\n",
       "</g>\r\n",
       "<!-- 12&#45;&gt;13 -->\r\n",
       "<g id=\"edge13\" class=\"edge\">\r\n",
       "<title>12:&#45;&gt;13:</title>\r\n",
       "<path fill=\"none\" stroke=\"black\" d=\"M728,-96.38C728,-85.83 728,-74.1 728,-63.35\"/>\r\n",
       "<polygon fill=\"black\" stroke=\"black\" points=\"731.5,-63.02 728,-53.02 724.5,-63.02 731.5,-63.02\"/>\r\n",
       "</g>\r\n",
       "<!-- 14 -->\r\n",
       "<g id=\"node15\" class=\"node\">\r\n",
       "<title>14</title>\r\n",
       "<polygon fill=\"#e5823a\" stroke=\"black\" points=\"896,-53 792,-53 792,0 896,0 896,-53\"/>\r\n",
       "<text text-anchor=\"middle\" x=\"844\" y=\"-37.8\" font-family=\"Times New Roman,serif\" font-size=\"14.00\">gini = 0.015</text>\r\n",
       "<text text-anchor=\"middle\" x=\"844\" y=\"-22.8\" font-family=\"Times New Roman,serif\" font-size=\"14.00\">samples = 135</text>\r\n",
       "<text text-anchor=\"middle\" x=\"844\" y=\"-7.8\" font-family=\"Times New Roman,serif\" font-size=\"14.00\">value = [134, 1]</text>\r\n",
       "</g>\r\n",
       "<!-- 12&#45;&gt;14 -->\r\n",
       "<g id=\"edge14\" class=\"edge\">\r\n",
       "<title>12:&#45;&gt;14:</title>\r\n",
       "<path fill=\"none\" stroke=\"black\" d=\"M765.66,-96.38C779.04,-84.62 794.08,-71.39 807.38,-59.7\"/>\r\n",
       "<polygon fill=\"black\" stroke=\"black\" points=\"809.78,-62.25 814.98,-53.02 805.16,-56.99 809.78,-62.25\"/>\r\n",
       "</g>\r\n",
       "</g>\r\n",
       "</svg>\r\n"
      ],
      "text/plain": [
       "<graphviz.files.Source at 0xd389940>"
      ]
     },
     "execution_count": 14,
     "metadata": {},
     "output_type": "execute_result"
    }
   ],
   "source": [
    "from graphviz import Source\n",
    "\n",
    "graph = Source(tree.export_graphviz(regressor,out_file = None, \n",
    "                     feature_names = dt.feature_names,label='all',\n",
    "    filled=True,\n",
    "    leaves_parallel=True))\n",
    "\n",
    "\n",
    "graph"
   ]
  },
  {
   "cell_type": "code",
   "execution_count": 16,
   "metadata": {},
   "outputs": [],
   "source": [
    "import os\n",
    "os.environ[\"PATH\"] += os.pathsep + 'C:/Program Files (x86)/Graphviz2.38/bin/'"
   ]
  },
  {
   "cell_type": "code",
   "execution_count": 15,
   "metadata": {},
   "outputs": [
    {
     "data": {
      "image/svg+xml": [
       "<svg xmlns=\"http://www.w3.org/2000/svg\" xmlns:xlink=\"http://www.w3.org/1999/xlink\" width=\"904pt\" height=\"381pt\" viewBox=\"0.00 0.00 904.00 380.50\">\n",
       "<g id=\"graph0\" class=\"graph\" transform=\"scale(1 1) rotate(0) translate(4 376.5)\">\n",
       "<title>Tree</title>\n",
       "<polygon fill=\"white\" stroke=\"transparent\" points=\"-4,4 -4,-376.5 900,-376.5 900,4 -4,4\"/>\n",
       "<!-- 0 -->\n",
       "<g id=\"node1\" class=\"node\">\n",
       "<title>0</title>\n",
       "<polygon fill=\"#abd5f4\" stroke=\"black\" points=\"543.5,-372.5 378.5,-372.5 378.5,-304.5 543.5,-304.5 543.5,-372.5\"/>\n",
       "<text text-anchor=\"middle\" x=\"461\" y=\"-357.3\" font-family=\"Times New Roman,serif\" font-size=\"14.00\">worst perimeter &lt;= 114.45</text>\n",
       "<text text-anchor=\"middle\" x=\"461\" y=\"-342.3\" font-family=\"Times New Roman,serif\" font-size=\"14.00\">gini = 0.463</text>\n",
       "<text text-anchor=\"middle\" x=\"461\" y=\"-327.3\" font-family=\"Times New Roman,serif\" font-size=\"14.00\">samples = 455</text>\n",
       "<text text-anchor=\"middle\" x=\"461\" y=\"-312.3\" font-family=\"Times New Roman,serif\" font-size=\"14.00\">value = [166, 289]</text>\n",
       "</g>\n",
       "<!-- 1 -->\n",
       "<g id=\"node2\" class=\"node\">\n",
       "<title>1</title>\n",
       "<polygon fill=\"#4fa8e8\" stroke=\"black\" points=\"435.5,-268.5 244.5,-268.5 244.5,-200.5 435.5,-200.5 435.5,-268.5\"/>\n",
       "<text text-anchor=\"middle\" x=\"340\" y=\"-253.3\" font-family=\"Times New Roman,serif\" font-size=\"14.00\">worst concave points &lt;= 0.136</text>\n",
       "<text text-anchor=\"middle\" x=\"340\" y=\"-238.3\" font-family=\"Times New Roman,serif\" font-size=\"14.00\">gini = 0.177</text>\n",
       "<text text-anchor=\"middle\" x=\"340\" y=\"-223.3\" font-family=\"Times New Roman,serif\" font-size=\"14.00\">samples = 315</text>\n",
       "<text text-anchor=\"middle\" x=\"340\" y=\"-208.3\" font-family=\"Times New Roman,serif\" font-size=\"14.00\">value = [31, 284]</text>\n",
       "</g>\n",
       "<!-- 0&#45;&gt;1 -->\n",
       "<g id=\"edge1\" class=\"edge\">\n",
       "<title>0:-&gt;1:</title>\n",
       "<path fill=\"none\" stroke=\"black\" d=\"M421.71,-304.38C410.73,-295.12 398.67,-284.95 387.27,-275.35\"/>\n",
       "<polygon fill=\"black\" stroke=\"black\" points=\"389.4,-272.57 379.5,-268.8 384.89,-277.92 389.4,-272.57\"/>\n",
       "<text text-anchor=\"middle\" x=\"381.62\" y=\"-290.01\" font-family=\"Times New Roman,serif\" font-size=\"14.00\">True</text>\n",
       "</g>\n",
       "<!-- 8 -->\n",
       "<g id=\"node9\" class=\"node\">\n",
       "<title>8</title>\n",
       "<polygon fill=\"#e68640\" stroke=\"black\" points=\"658.5,-268.5 461.5,-268.5 461.5,-200.5 658.5,-200.5 658.5,-268.5\"/>\n",
       "<text text-anchor=\"middle\" x=\"560\" y=\"-253.3\" font-family=\"Times New Roman,serif\" font-size=\"14.00\">fractal dimension error &lt;= 0.002</text>\n",
       "<text text-anchor=\"middle\" x=\"560\" y=\"-238.3\" font-family=\"Times New Roman,serif\" font-size=\"14.00\">gini = 0.069</text>\n",
       "<text text-anchor=\"middle\" x=\"560\" y=\"-223.3\" font-family=\"Times New Roman,serif\" font-size=\"14.00\">samples = 140</text>\n",
       "<text text-anchor=\"middle\" x=\"560\" y=\"-208.3\" font-family=\"Times New Roman,serif\" font-size=\"14.00\">value = [135, 5]</text>\n",
       "</g>\n",
       "<!-- 0&#45;&gt;8 -->\n",
       "<g id=\"edge8\" class=\"edge\">\n",
       "<title>0:-&gt;8:</title>\n",
       "<path fill=\"none\" stroke=\"black\" d=\"M493.14,-304.38C501.87,-295.39 511.43,-285.54 520.52,-276.18\"/>\n",
       "<polygon fill=\"black\" stroke=\"black\" points=\"523.23,-278.41 527.68,-268.8 518.2,-273.54 523.23,-278.41\"/>\n",
       "<text text-anchor=\"middle\" x=\"528.05\" y=\"-290.1\" font-family=\"Times New Roman,serif\" font-size=\"14.00\">False</text>\n",
       "</g>\n",
       "<!-- 2 -->\n",
       "<g id=\"node3\" class=\"node\">\n",
       "<title>2</title>\n",
       "<polygon fill=\"#3ea0e6\" stroke=\"black\" points=\"235,-164.5 101,-164.5 101,-96.5 235,-96.5 235,-164.5\"/>\n",
       "<text text-anchor=\"middle\" x=\"168\" y=\"-149.3\" font-family=\"Times New Roman,serif\" font-size=\"14.00\">mean area &lt;= 696.25</text>\n",
       "<text text-anchor=\"middle\" x=\"168\" y=\"-134.3\" font-family=\"Times New Roman,serif\" font-size=\"14.00\">gini = 0.05</text>\n",
       "<text text-anchor=\"middle\" x=\"168\" y=\"-119.3\" font-family=\"Times New Roman,serif\" font-size=\"14.00\">samples = 274</text>\n",
       "<text text-anchor=\"middle\" x=\"168\" y=\"-104.3\" font-family=\"Times New Roman,serif\" font-size=\"14.00\">value = [7, 267]</text>\n",
       "</g>\n",
       "<!-- 1&#45;&gt;2 -->\n",
       "<g id=\"edge2\" class=\"edge\">\n",
       "<title>1:-&gt;2:</title>\n",
       "<path fill=\"none\" stroke=\"black\" d=\"M284.16,-200.38C267.7,-190.62 249.56,-179.87 232.6,-169.81\"/>\n",
       "<polygon fill=\"black\" stroke=\"black\" points=\"234.24,-166.72 223.86,-164.62 230.67,-172.74 234.24,-166.72\"/>\n",
       "</g>\n",
       "<!-- 5 -->\n",
       "<g id=\"node6\" class=\"node\">\n",
       "<title>5</title>\n",
       "<polygon fill=\"#f7dac5\" stroke=\"black\" points=\"412,-164.5 268,-164.5 268,-96.5 412,-96.5 412,-164.5\"/>\n",
       "<text text-anchor=\"middle\" x=\"340\" y=\"-149.3\" font-family=\"Times New Roman,serif\" font-size=\"14.00\">worst texture &lt;= 25.67</text>\n",
       "<text text-anchor=\"middle\" x=\"340\" y=\"-134.3\" font-family=\"Times New Roman,serif\" font-size=\"14.00\">gini = 0.485</text>\n",
       "<text text-anchor=\"middle\" x=\"340\" y=\"-119.3\" font-family=\"Times New Roman,serif\" font-size=\"14.00\">samples = 41</text>\n",
       "<text text-anchor=\"middle\" x=\"340\" y=\"-104.3\" font-family=\"Times New Roman,serif\" font-size=\"14.00\">value = [24, 17]</text>\n",
       "</g>\n",
       "<!-- 1&#45;&gt;5 -->\n",
       "<g id=\"edge5\" class=\"edge\">\n",
       "<title>1:-&gt;5:</title>\n",
       "<path fill=\"none\" stroke=\"black\" d=\"M340,-200.38C340,-192.28 340,-183.48 340,-174.97\"/>\n",
       "<polygon fill=\"black\" stroke=\"black\" points=\"343.5,-174.8 340,-164.8 336.5,-174.8 343.5,-174.8\"/>\n",
       "</g>\n",
       "<!-- 3 -->\n",
       "<g id=\"node4\" class=\"node\">\n",
       "<title>3</title>\n",
       "<polygon fill=\"#3b9ee5\" stroke=\"black\" points=\"104,-53 0,-53 0,0 104,0 104,-53\"/>\n",
       "<text text-anchor=\"middle\" x=\"52\" y=\"-37.8\" font-family=\"Times New Roman,serif\" font-size=\"14.00\">gini = 0.015</text>\n",
       "<text text-anchor=\"middle\" x=\"52\" y=\"-22.8\" font-family=\"Times New Roman,serif\" font-size=\"14.00\">samples = 265</text>\n",
       "<text text-anchor=\"middle\" x=\"52\" y=\"-7.8\" font-family=\"Times New Roman,serif\" font-size=\"14.00\">value = [2, 263]</text>\n",
       "</g>\n",
       "<!-- 2&#45;&gt;3 -->\n",
       "<g id=\"edge3\" class=\"edge\">\n",
       "<title>2:-&gt;3:</title>\n",
       "<path fill=\"none\" stroke=\"black\" d=\"M130.34,-96.38C116.96,-84.62 101.92,-71.39 88.62,-59.7\"/>\n",
       "<polygon fill=\"black\" stroke=\"black\" points=\"90.84,-56.99 81.02,-53.02 86.22,-62.25 90.84,-56.99\"/>\n",
       "</g>\n",
       "<!-- 4 -->\n",
       "<g id=\"node5\" class=\"node\">\n",
       "<title>4</title>\n",
       "<polygon fill=\"#fae6d7\" stroke=\"black\" points=\"213.5,-53 122.5,-53 122.5,0 213.5,0 213.5,-53\"/>\n",
       "<text text-anchor=\"middle\" x=\"168\" y=\"-37.8\" font-family=\"Times New Roman,serif\" font-size=\"14.00\">gini = 0.494</text>\n",
       "<text text-anchor=\"middle\" x=\"168\" y=\"-22.8\" font-family=\"Times New Roman,serif\" font-size=\"14.00\">samples = 9</text>\n",
       "<text text-anchor=\"middle\" x=\"168\" y=\"-7.8\" font-family=\"Times New Roman,serif\" font-size=\"14.00\">value = [5, 4]</text>\n",
       "</g>\n",
       "<!-- 2&#45;&gt;4 -->\n",
       "<g id=\"edge4\" class=\"edge\">\n",
       "<title>2:-&gt;4:</title>\n",
       "<path fill=\"none\" stroke=\"black\" d=\"M168,-96.38C168,-85.83 168,-74.1 168,-63.35\"/>\n",
       "<polygon fill=\"black\" stroke=\"black\" points=\"171.5,-63.02 168,-53.02 164.5,-63.02 171.5,-63.02\"/>\n",
       "</g>\n",
       "<!-- 6 -->\n",
       "<g id=\"node7\" class=\"node\">\n",
       "<title>6</title>\n",
       "<polygon fill=\"#72b9ec\" stroke=\"black\" points=\"330,-53 232,-53 232,0 330,0 330,-53\"/>\n",
       "<text text-anchor=\"middle\" x=\"281\" y=\"-37.8\" font-family=\"Times New Roman,serif\" font-size=\"14.00\">gini = 0.346</text>\n",
       "<text text-anchor=\"middle\" x=\"281\" y=\"-22.8\" font-family=\"Times New Roman,serif\" font-size=\"14.00\">samples = 18</text>\n",
       "<text text-anchor=\"middle\" x=\"281\" y=\"-7.8\" font-family=\"Times New Roman,serif\" font-size=\"14.00\">value = [4, 14]</text>\n",
       "</g>\n",
       "<!-- 5&#45;&gt;6 -->\n",
       "<g id=\"edge6\" class=\"edge\">\n",
       "<title>5:-&gt;6:</title>\n",
       "<path fill=\"none\" stroke=\"black\" d=\"M320.84,-96.38C314.42,-85.28 307.24,-72.87 300.77,-61.68\"/>\n",
       "<polygon fill=\"black\" stroke=\"black\" points=\"303.8,-59.92 295.76,-53.02 297.74,-63.43 303.8,-59.92\"/>\n",
       "</g>\n",
       "<!-- 7 -->\n",
       "<g id=\"node8\" class=\"node\">\n",
       "<title>7</title>\n",
       "<polygon fill=\"#e99457\" stroke=\"black\" points=\"446,-53 348,-53 348,0 446,0 446,-53\"/>\n",
       "<text text-anchor=\"middle\" x=\"397\" y=\"-37.8\" font-family=\"Times New Roman,serif\" font-size=\"14.00\">gini = 0.227</text>\n",
       "<text text-anchor=\"middle\" x=\"397\" y=\"-22.8\" font-family=\"Times New Roman,serif\" font-size=\"14.00\">samples = 23</text>\n",
       "<text text-anchor=\"middle\" x=\"397\" y=\"-7.8\" font-family=\"Times New Roman,serif\" font-size=\"14.00\">value = [20, 3]</text>\n",
       "</g>\n",
       "<!-- 5&#45;&gt;7 -->\n",
       "<g id=\"edge7\" class=\"edge\">\n",
       "<title>5:-&gt;7:</title>\n",
       "<path fill=\"none\" stroke=\"black\" d=\"M358.51,-96.38C364.65,-85.39 371.51,-73.12 377.71,-62.02\"/>\n",
       "<polygon fill=\"black\" stroke=\"black\" points=\"380.92,-63.46 382.74,-53.02 374.81,-60.04 380.92,-63.46\"/>\n",
       "</g>\n",
       "<!-- 9 -->\n",
       "<g id=\"node10\" class=\"node\">\n",
       "<title>9</title>\n",
       "<polygon fill=\"#7bbeee\" stroke=\"black\" points=\"628,-164.5 492,-164.5 492,-96.5 628,-96.5 628,-164.5\"/>\n",
       "<text text-anchor=\"middle\" x=\"560\" y=\"-149.3\" font-family=\"Times New Roman,serif\" font-size=\"14.00\">worst area &lt;= 1214.0</text>\n",
       "<text text-anchor=\"middle\" x=\"560\" y=\"-134.3\" font-family=\"Times New Roman,serif\" font-size=\"14.00\">gini = 0.375</text>\n",
       "<text text-anchor=\"middle\" x=\"560\" y=\"-119.3\" font-family=\"Times New Roman,serif\" font-size=\"14.00\">samples = 4</text>\n",
       "<text text-anchor=\"middle\" x=\"560\" y=\"-104.3\" font-family=\"Times New Roman,serif\" font-size=\"14.00\">value = [1, 3]</text>\n",
       "</g>\n",
       "<!-- 8&#45;&gt;9 -->\n",
       "<g id=\"edge9\" class=\"edge\">\n",
       "<title>8:-&gt;9:</title>\n",
       "<path fill=\"none\" stroke=\"black\" d=\"M560,-200.38C560,-192.28 560,-183.48 560,-174.97\"/>\n",
       "<polygon fill=\"black\" stroke=\"black\" points=\"563.5,-174.8 560,-164.8 556.5,-174.8 563.5,-174.8\"/>\n",
       "</g>\n",
       "<!-- 12 -->\n",
       "<g id=\"node13\" class=\"node\">\n",
       "<title>12</title>\n",
       "<polygon fill=\"#e5833c\" stroke=\"black\" points=\"801.5,-164.5 654.5,-164.5 654.5,-96.5 801.5,-96.5 801.5,-164.5\"/>\n",
       "<text text-anchor=\"middle\" x=\"728\" y=\"-149.3\" font-family=\"Times New Roman,serif\" font-size=\"14.00\">worst radius &lt;= 15.665</text>\n",
       "<text text-anchor=\"middle\" x=\"728\" y=\"-134.3\" font-family=\"Times New Roman,serif\" font-size=\"14.00\">gini = 0.029</text>\n",
       "<text text-anchor=\"middle\" x=\"728\" y=\"-119.3\" font-family=\"Times New Roman,serif\" font-size=\"14.00\">samples = 136</text>\n",
       "<text text-anchor=\"middle\" x=\"728\" y=\"-104.3\" font-family=\"Times New Roman,serif\" font-size=\"14.00\">value = [134, 2]</text>\n",
       "</g>\n",
       "<!-- 8&#45;&gt;12 -->\n",
       "<g id=\"edge12\" class=\"edge\">\n",
       "<title>8:-&gt;12:</title>\n",
       "<path fill=\"none\" stroke=\"black\" d=\"M614.54,-200.38C630.47,-190.71 648.01,-180.06 664.44,-170.09\"/>\n",
       "<polygon fill=\"black\" stroke=\"black\" points=\"666.71,-172.81 673.44,-164.62 663.08,-166.82 666.71,-172.81\"/>\n",
       "</g>\n",
       "<!-- 10 -->\n",
       "<g id=\"node11\" class=\"node\">\n",
       "<title>10</title>\n",
       "<polygon fill=\"#399de5\" stroke=\"black\" points=\"555.5,-53 464.5,-53 464.5,0 555.5,0 555.5,-53\"/>\n",
       "<text text-anchor=\"middle\" x=\"510\" y=\"-37.8\" font-family=\"Times New Roman,serif\" font-size=\"14.00\">gini = 0.0</text>\n",
       "<text text-anchor=\"middle\" x=\"510\" y=\"-22.8\" font-family=\"Times New Roman,serif\" font-size=\"14.00\">samples = 3</text>\n",
       "<text text-anchor=\"middle\" x=\"510\" y=\"-7.8\" font-family=\"Times New Roman,serif\" font-size=\"14.00\">value = [0, 3]</text>\n",
       "</g>\n",
       "<!-- 9&#45;&gt;10 -->\n",
       "<g id=\"edge10\" class=\"edge\">\n",
       "<title>9:-&gt;10:</title>\n",
       "<path fill=\"none\" stroke=\"black\" d=\"M543.77,-96.38C538.38,-85.39 532.36,-73.12 526.92,-62.02\"/>\n",
       "<polygon fill=\"black\" stroke=\"black\" points=\"530.05,-60.46 522.51,-53.02 523.77,-63.54 530.05,-60.46\"/>\n",
       "</g>\n",
       "<!-- 11 -->\n",
       "<g id=\"node12\" class=\"node\">\n",
       "<title>11</title>\n",
       "<polygon fill=\"#e58139\" stroke=\"black\" points=\"664.5,-53 573.5,-53 573.5,0 664.5,0 664.5,-53\"/>\n",
       "<text text-anchor=\"middle\" x=\"619\" y=\"-37.8\" font-family=\"Times New Roman,serif\" font-size=\"14.00\">gini = 0.0</text>\n",
       "<text text-anchor=\"middle\" x=\"619\" y=\"-22.8\" font-family=\"Times New Roman,serif\" font-size=\"14.00\">samples = 1</text>\n",
       "<text text-anchor=\"middle\" x=\"619\" y=\"-7.8\" font-family=\"Times New Roman,serif\" font-size=\"14.00\">value = [1, 0]</text>\n",
       "</g>\n",
       "<!-- 9&#45;&gt;11 -->\n",
       "<g id=\"edge11\" class=\"edge\">\n",
       "<title>9:-&gt;11:</title>\n",
       "<path fill=\"none\" stroke=\"black\" d=\"M579.16,-96.38C585.58,-85.28 592.76,-72.87 599.23,-61.68\"/>\n",
       "<polygon fill=\"black\" stroke=\"black\" points=\"602.26,-63.43 604.24,-53.02 596.2,-59.92 602.26,-63.43\"/>\n",
       "</g>\n",
       "<!-- 13 -->\n",
       "<g id=\"node14\" class=\"node\">\n",
       "<title>13</title>\n",
       "<polygon fill=\"#399de5\" stroke=\"black\" points=\"773.5,-53 682.5,-53 682.5,0 773.5,0 773.5,-53\"/>\n",
       "<text text-anchor=\"middle\" x=\"728\" y=\"-37.8\" font-family=\"Times New Roman,serif\" font-size=\"14.00\">gini = 0.0</text>\n",
       "<text text-anchor=\"middle\" x=\"728\" y=\"-22.8\" font-family=\"Times New Roman,serif\" font-size=\"14.00\">samples = 1</text>\n",
       "<text text-anchor=\"middle\" x=\"728\" y=\"-7.8\" font-family=\"Times New Roman,serif\" font-size=\"14.00\">value = [0, 1]</text>\n",
       "</g>\n",
       "<!-- 12&#45;&gt;13 -->\n",
       "<g id=\"edge13\" class=\"edge\">\n",
       "<title>12:-&gt;13:</title>\n",
       "<path fill=\"none\" stroke=\"black\" d=\"M728,-96.38C728,-85.83 728,-74.1 728,-63.35\"/>\n",
       "<polygon fill=\"black\" stroke=\"black\" points=\"731.5,-63.02 728,-53.02 724.5,-63.02 731.5,-63.02\"/>\n",
       "</g>\n",
       "<!-- 14 -->\n",
       "<g id=\"node15\" class=\"node\">\n",
       "<title>14</title>\n",
       "<polygon fill=\"#e5823a\" stroke=\"black\" points=\"896,-53 792,-53 792,0 896,0 896,-53\"/>\n",
       "<text text-anchor=\"middle\" x=\"844\" y=\"-37.8\" font-family=\"Times New Roman,serif\" font-size=\"14.00\">gini = 0.015</text>\n",
       "<text text-anchor=\"middle\" x=\"844\" y=\"-22.8\" font-family=\"Times New Roman,serif\" font-size=\"14.00\">samples = 135</text>\n",
       "<text text-anchor=\"middle\" x=\"844\" y=\"-7.8\" font-family=\"Times New Roman,serif\" font-size=\"14.00\">value = [134, 1]</text>\n",
       "</g>\n",
       "<!-- 12&#45;&gt;14 -->\n",
       "<g id=\"edge14\" class=\"edge\">\n",
       "<title>12:-&gt;14:</title>\n",
       "<path fill=\"none\" stroke=\"black\" d=\"M765.66,-96.38C779.04,-84.62 794.08,-71.39 807.38,-59.7\"/>\n",
       "<polygon fill=\"black\" stroke=\"black\" points=\"809.78,-62.25 814.98,-53.02 805.16,-56.99 809.78,-62.25\"/>\n",
       "</g>\n",
       "</g>\n",
       "</svg>"
      ],
      "text/plain": [
       "<IPython.core.display.SVG object>"
      ]
     },
     "execution_count": 15,
     "metadata": {},
     "output_type": "execute_result"
    }
   ],
   "source": [
    "\n",
    "\n",
    "from IPython.display import SVG\n",
    "\n",
    "SVG(graph.pipe(format='svg'))\n"
   ]
  },
  {
   "cell_type": "code",
   "execution_count": null,
   "metadata": {},
   "outputs": [],
   "source": []
  },
  {
   "cell_type": "code",
   "execution_count": 18,
   "metadata": {},
   "outputs": [],
   "source": [
    "# PREDICTIONS"
   ]
  },
  {
   "cell_type": "code",
   "execution_count": 16,
   "metadata": {},
   "outputs": [
    {
     "data": {
      "text/plain": [
       "array([1, 1, 1, 1, 1, 1, 0, 1, 1, 1, 1, 1, 0, 1, 1, 0, 0, 0, 1, 1, 1, 0,\n",
       "       1, 1, 0, 1, 1, 1, 0, 1, 1, 0, 1, 1, 0, 0, 1, 0, 0, 0, 0, 0, 1, 1,\n",
       "       0, 1, 1, 0, 1, 1, 1, 1, 1, 1, 1, 1, 1, 0, 1, 1, 0, 1, 1, 1, 1, 1,\n",
       "       1, 1, 0, 0, 0, 0, 0, 1, 0, 1, 1, 0, 0, 1, 0, 0, 0, 1, 1, 0, 1, 0,\n",
       "       1, 0, 0, 0, 0, 1, 0, 1, 1, 1, 1, 1, 1, 1, 0, 1, 1, 1, 1, 0, 1, 0,\n",
       "       1, 1, 1, 1])"
      ]
     },
     "execution_count": 16,
     "metadata": {},
     "output_type": "execute_result"
    }
   ],
   "source": [
    "y_pred1 = regressor.predict(X_test)\n",
    "y_pred1\n",
    "\n",
    "\n",
    "\n",
    "#GINI IMPURITY---should be less\n",
    "\n",
    "#MULTIWAY TREE ---CHAID models\n",
    "#BINARY---------CART\n"
   ]
  },
  {
   "cell_type": "code",
   "execution_count": 17,
   "metadata": {},
   "outputs": [],
   "source": [
    "#MODEL EVALAUTION"
   ]
  },
  {
   "cell_type": "code",
   "execution_count": 18,
   "metadata": {},
   "outputs": [],
   "source": [
    "from sklearn.metrics import mean_squared_error \n",
    "from math import sqrt\n",
    "\n",
    "import matplotlib.pyplot as plt\n",
    "\n",
    "%matplotlib inline\n",
    "\n",
    "\n",
    "\n",
    "actual=y_test\n",
    "\n",
    "#RMSE=sqrt(MSE)\n"
   ]
  },
  {
   "cell_type": "code",
   "execution_count": 19,
   "metadata": {},
   "outputs": [
    {
     "data": {
      "text/plain": [
       "0.20942695414584775"
      ]
     },
     "execution_count": 19,
     "metadata": {},
     "output_type": "execute_result"
    }
   ],
   "source": [
    "error1 = sqrt(mean_squared_error(actual,y_pred1)) #calculate rmse\n",
    "error1\n",
    "\n",
    "\n",
    "\n",
    "#KNN-5.515006380894805\n",
    "\n",
    "#DTREE-- 4.481213508616157\n",
    "#4.867565069212129 --- D=2"
   ]
  },
  {
   "cell_type": "code",
   "execution_count": null,
   "metadata": {},
   "outputs": [],
   "source": []
  },
  {
   "cell_type": "code",
   "execution_count": 20,
   "metadata": {},
   "outputs": [
    {
     "name": "stdout",
     "output_type": "stream",
     "text": [
      "Accuracy: 0.8177749360613811\n"
     ]
    }
   ],
   "source": [
    "from sklearn import metrics\n",
    "print(\"Accuracy:\",metrics.r2_score(y_test, y_pred1))\n",
    "\n",
    "\n",
    "#DTREE--Accuracy: 0.8296736761321832\n",
    "#Accuracy: 0.6970626004890764 -- D=2"
   ]
  },
  {
   "cell_type": "code",
   "execution_count": 24,
   "metadata": {},
   "outputs": [],
   "source": [
    "\n",
    "#GRID SEARCH CV"
   ]
  },
  {
   "cell_type": "code",
   "execution_count": 25,
   "metadata": {},
   "outputs": [
    {
     "data": {
      "text/plain": [
       "GridSearchCV(cv=5, estimator=DecisionTreeClassifier(max_depth=3),\n",
       "             param_grid={'ccp_alpha': [0.01, 0.001, 0.1, 0.5, 0.05, 0.005, 0.7],\n",
       "                         'max_depth': [1, 2, 3, 5, 7, 9, 11, 13, 21]})"
      ]
     },
     "execution_count": 25,
     "metadata": {},
     "output_type": "execute_result"
    }
   ],
   "source": [
    "#GridSearch CV\n",
    "\n",
    "from sklearn.model_selection import GridSearchCV\n",
    "params = {'max_depth':[1,2,3,5,7,9,11,13,21],\n",
    "         'ccp_alpha':[0.01,0.001,0.1,0.5,0.05,0.005,0.7]}\n",
    "\n",
    "\n",
    "\n",
    "\n",
    "model = GridSearchCV(regressor, params, cv=5)\n",
    "model.fit(X_train,y_train)\n",
    "\n",
    "model\n"
   ]
  },
  {
   "cell_type": "code",
   "execution_count": 26,
   "metadata": {},
   "outputs": [],
   "source": [
    "#selecting best hyper-parameters"
   ]
  },
  {
   "cell_type": "code",
   "execution_count": 27,
   "metadata": {},
   "outputs": [
    {
     "data": {
      "text/plain": [
       "{'mean_fit_time': array([0.02520156, 0.01560092, 0.01760087, 0.02800164, 0.02900176,\n",
       "        0.02120123, 0.02820158, 0.02500148, 0.02180119, 0.01320066,\n",
       "        0.01540079, 0.01740093, 0.01980114, 0.02060113, 0.02080112,\n",
       "        0.02100129, 0.02120099, 0.02100134, 0.01300068, 0.0152009 ,\n",
       "        0.01720109, 0.01960111, 0.02100115, 0.02080112, 0.02300134,\n",
       "        0.02080112, 0.02080121, 0.01300073, 0.01520076, 0.01740093,\n",
       "        0.02000117, 0.02080116, 0.02140141, 0.02100115, 0.0210012 ,\n",
       "        0.02080121, 0.0132009 , 0.01520085, 0.01760106, 0.02000113,\n",
       "        0.02120113, 0.02100134, 0.02120118, 0.02420135, 0.03060184,\n",
       "        0.01520081, 0.01800103, 0.0248014 , 0.02020116, 0.02080107,\n",
       "        0.02080121, 0.0210011 , 0.02120132, 0.02100115, 0.01320076,\n",
       "        0.0172009 , 0.02040124, 0.02760153, 0.02540145, 0.02440157,\n",
       "        0.02180133, 0.02380123, 0.02420144]),\n",
       " 'std_fit_time': array([0.02390448, 0.00048988, 0.00080006, 0.00787444, 0.00405003,\n",
       "        0.00183312, 0.0057064 , 0.00303339, 0.00203978, 0.00039999,\n",
       "        0.00048996, 0.00048982, 0.00116618, 0.00135654, 0.0019391 ,\n",
       "        0.00167337, 0.00193916, 0.0016734 , 0.00063256, 0.00039992,\n",
       "        0.00040011, 0.00048998, 0.00167346, 0.00146968, 0.00384728,\n",
       "        0.00193913, 0.00146976, 0.        , 0.00039999, 0.00048982,\n",
       "        0.00089447, 0.00193916, 0.00293945, 0.00209774, 0.00209772,\n",
       "        0.00146967, 0.00039999, 0.00039995, 0.00049002, 0.00141428,\n",
       "        0.0019392 , 0.00209774, 0.00183317, 0.00519257, 0.00185469,\n",
       "        0.00365536, 0.00379499, 0.00172052, 0.0007484 , 0.00146974,\n",
       "        0.00231517, 0.00209767, 0.00183308, 0.00167334, 0.00040007,\n",
       "        0.00263828, 0.00338257, 0.00546293, 0.00484172, 0.00440941,\n",
       "        0.00193913, 0.002926  , 0.00342941]),\n",
       " 'mean_score_time': array([0.00500016, 0.00460029, 0.00500031, 0.0076004 , 0.00680032,\n",
       "        0.00500021, 0.00740042, 0.00580039, 0.00540047, 0.00500045,\n",
       "        0.00480027, 0.00460029, 0.00500031, 0.00480037, 0.0050004 ,\n",
       "        0.00440025, 0.00500045, 0.00480018, 0.00480042, 0.00480027,\n",
       "        0.00480027, 0.00500031, 0.00480018, 0.00480042, 0.00480022,\n",
       "        0.00460029, 0.00480022, 0.0050004 , 0.00480022, 0.00480037,\n",
       "        0.00480018, 0.00500035, 0.00500021, 0.00500035, 0.00460024,\n",
       "        0.00560026, 0.00480018, 0.00480032, 0.00480027, 0.00500031,\n",
       "        0.00520039, 0.00480013, 0.00480032, 0.00620031, 0.00820041,\n",
       "        0.00540042, 0.00600042, 0.00720048, 0.00480018, 0.00520034,\n",
       "        0.00480022, 0.00480032, 0.00500021, 0.00500035, 0.00500021,\n",
       "        0.00480037, 0.0064003 , 0.00760045, 0.00620031, 0.00560026,\n",
       "        0.00540023, 0.00540042, 0.00560031]),\n",
       " 'std_score_time': array([6.32560488e-04, 4.89979242e-04, 1.78416128e-07, 2.57692906e-03,\n",
       "        1.46966519e-03, 1.16800773e-07, 2.72782325e-03, 1.16620399e-03,\n",
       "        4.89940316e-04, 1.16800773e-07, 4.00042545e-04, 4.89979242e-04,\n",
       "        2.33601546e-07, 4.00090257e-04, 9.53674316e-08, 4.89979242e-04,\n",
       "        1.16800773e-07, 3.99994861e-04, 4.00114074e-04, 4.00042545e-04,\n",
       "        4.00161772e-04, 9.53674316e-08, 3.99994861e-04, 4.00114074e-04,\n",
       "        4.00018706e-04, 4.89979288e-04, 4.00018706e-04, 1.78416128e-07,\n",
       "        4.00018706e-04, 4.00090257e-04, 3.99994861e-04, 2.13248060e-07,\n",
       "        1.16800773e-07, 0.00000000e+00, 4.89745664e-04, 8.00216199e-04,\n",
       "        3.99994861e-04, 4.00066404e-04, 4.00042545e-04, 9.53674316e-08,\n",
       "        3.99947177e-04, 3.99971008e-04, 4.00066376e-04, 1.60020590e-03,\n",
       "        3.99947177e-04, 1.01987962e-03, 1.54938885e-03, 1.32665441e-03,\n",
       "        4.00114102e-04, 4.00090257e-04, 4.00018706e-04, 3.99947177e-04,\n",
       "        1.16800773e-07, 1.50789149e-07, 1.16800773e-07, 4.00090257e-04,\n",
       "        1.35656455e-03, 1.35641690e-03, 1.16634302e-03, 8.00037398e-04,\n",
       "        1.01986092e-03, 4.89881921e-04, 1.35657862e-03]),\n",
       " 'param_ccp_alpha': masked_array(data=[0.01, 0.01, 0.01, 0.01, 0.01, 0.01, 0.01, 0.01, 0.01,\n",
       "                    0.001, 0.001, 0.001, 0.001, 0.001, 0.001, 0.001, 0.001,\n",
       "                    0.001, 0.1, 0.1, 0.1, 0.1, 0.1, 0.1, 0.1, 0.1, 0.1,\n",
       "                    0.5, 0.5, 0.5, 0.5, 0.5, 0.5, 0.5, 0.5, 0.5, 0.05,\n",
       "                    0.05, 0.05, 0.05, 0.05, 0.05, 0.05, 0.05, 0.05, 0.005,\n",
       "                    0.005, 0.005, 0.005, 0.005, 0.005, 0.005, 0.005, 0.005,\n",
       "                    0.7, 0.7, 0.7, 0.7, 0.7, 0.7, 0.7, 0.7, 0.7],\n",
       "              mask=[False, False, False, False, False, False, False, False,\n",
       "                    False, False, False, False, False, False, False, False,\n",
       "                    False, False, False, False, False, False, False, False,\n",
       "                    False, False, False, False, False, False, False, False,\n",
       "                    False, False, False, False, False, False, False, False,\n",
       "                    False, False, False, False, False, False, False, False,\n",
       "                    False, False, False, False, False, False, False, False,\n",
       "                    False, False, False, False, False, False, False],\n",
       "        fill_value='?',\n",
       "             dtype=object),\n",
       " 'param_max_depth': masked_array(data=[1, 2, 3, 5, 7, 9, 11, 13, 21, 1, 2, 3, 5, 7, 9, 11, 13,\n",
       "                    21, 1, 2, 3, 5, 7, 9, 11, 13, 21, 1, 2, 3, 5, 7, 9, 11,\n",
       "                    13, 21, 1, 2, 3, 5, 7, 9, 11, 13, 21, 1, 2, 3, 5, 7, 9,\n",
       "                    11, 13, 21, 1, 2, 3, 5, 7, 9, 11, 13, 21],\n",
       "              mask=[False, False, False, False, False, False, False, False,\n",
       "                    False, False, False, False, False, False, False, False,\n",
       "                    False, False, False, False, False, False, False, False,\n",
       "                    False, False, False, False, False, False, False, False,\n",
       "                    False, False, False, False, False, False, False, False,\n",
       "                    False, False, False, False, False, False, False, False,\n",
       "                    False, False, False, False, False, False, False, False,\n",
       "                    False, False, False, False, False, False, False],\n",
       "        fill_value='?',\n",
       "             dtype=object),\n",
       " 'params': [{'ccp_alpha': 0.01, 'max_depth': 1},\n",
       "  {'ccp_alpha': 0.01, 'max_depth': 2},\n",
       "  {'ccp_alpha': 0.01, 'max_depth': 3},\n",
       "  {'ccp_alpha': 0.01, 'max_depth': 5},\n",
       "  {'ccp_alpha': 0.01, 'max_depth': 7},\n",
       "  {'ccp_alpha': 0.01, 'max_depth': 9},\n",
       "  {'ccp_alpha': 0.01, 'max_depth': 11},\n",
       "  {'ccp_alpha': 0.01, 'max_depth': 13},\n",
       "  {'ccp_alpha': 0.01, 'max_depth': 21},\n",
       "  {'ccp_alpha': 0.001, 'max_depth': 1},\n",
       "  {'ccp_alpha': 0.001, 'max_depth': 2},\n",
       "  {'ccp_alpha': 0.001, 'max_depth': 3},\n",
       "  {'ccp_alpha': 0.001, 'max_depth': 5},\n",
       "  {'ccp_alpha': 0.001, 'max_depth': 7},\n",
       "  {'ccp_alpha': 0.001, 'max_depth': 9},\n",
       "  {'ccp_alpha': 0.001, 'max_depth': 11},\n",
       "  {'ccp_alpha': 0.001, 'max_depth': 13},\n",
       "  {'ccp_alpha': 0.001, 'max_depth': 21},\n",
       "  {'ccp_alpha': 0.1, 'max_depth': 1},\n",
       "  {'ccp_alpha': 0.1, 'max_depth': 2},\n",
       "  {'ccp_alpha': 0.1, 'max_depth': 3},\n",
       "  {'ccp_alpha': 0.1, 'max_depth': 5},\n",
       "  {'ccp_alpha': 0.1, 'max_depth': 7},\n",
       "  {'ccp_alpha': 0.1, 'max_depth': 9},\n",
       "  {'ccp_alpha': 0.1, 'max_depth': 11},\n",
       "  {'ccp_alpha': 0.1, 'max_depth': 13},\n",
       "  {'ccp_alpha': 0.1, 'max_depth': 21},\n",
       "  {'ccp_alpha': 0.5, 'max_depth': 1},\n",
       "  {'ccp_alpha': 0.5, 'max_depth': 2},\n",
       "  {'ccp_alpha': 0.5, 'max_depth': 3},\n",
       "  {'ccp_alpha': 0.5, 'max_depth': 5},\n",
       "  {'ccp_alpha': 0.5, 'max_depth': 7},\n",
       "  {'ccp_alpha': 0.5, 'max_depth': 9},\n",
       "  {'ccp_alpha': 0.5, 'max_depth': 11},\n",
       "  {'ccp_alpha': 0.5, 'max_depth': 13},\n",
       "  {'ccp_alpha': 0.5, 'max_depth': 21},\n",
       "  {'ccp_alpha': 0.05, 'max_depth': 1},\n",
       "  {'ccp_alpha': 0.05, 'max_depth': 2},\n",
       "  {'ccp_alpha': 0.05, 'max_depth': 3},\n",
       "  {'ccp_alpha': 0.05, 'max_depth': 5},\n",
       "  {'ccp_alpha': 0.05, 'max_depth': 7},\n",
       "  {'ccp_alpha': 0.05, 'max_depth': 9},\n",
       "  {'ccp_alpha': 0.05, 'max_depth': 11},\n",
       "  {'ccp_alpha': 0.05, 'max_depth': 13},\n",
       "  {'ccp_alpha': 0.05, 'max_depth': 21},\n",
       "  {'ccp_alpha': 0.005, 'max_depth': 1},\n",
       "  {'ccp_alpha': 0.005, 'max_depth': 2},\n",
       "  {'ccp_alpha': 0.005, 'max_depth': 3},\n",
       "  {'ccp_alpha': 0.005, 'max_depth': 5},\n",
       "  {'ccp_alpha': 0.005, 'max_depth': 7},\n",
       "  {'ccp_alpha': 0.005, 'max_depth': 9},\n",
       "  {'ccp_alpha': 0.005, 'max_depth': 11},\n",
       "  {'ccp_alpha': 0.005, 'max_depth': 13},\n",
       "  {'ccp_alpha': 0.005, 'max_depth': 21},\n",
       "  {'ccp_alpha': 0.7, 'max_depth': 1},\n",
       "  {'ccp_alpha': 0.7, 'max_depth': 2},\n",
       "  {'ccp_alpha': 0.7, 'max_depth': 3},\n",
       "  {'ccp_alpha': 0.7, 'max_depth': 5},\n",
       "  {'ccp_alpha': 0.7, 'max_depth': 7},\n",
       "  {'ccp_alpha': 0.7, 'max_depth': 9},\n",
       "  {'ccp_alpha': 0.7, 'max_depth': 11},\n",
       "  {'ccp_alpha': 0.7, 'max_depth': 13},\n",
       "  {'ccp_alpha': 0.7, 'max_depth': 21}],\n",
       " 'split0_test_score': array([0.86813187, 0.91208791, 0.92307692, 0.91208791, 0.91208791,\n",
       "        0.91208791, 0.91208791, 0.91208791, 0.91208791, 0.86813187,\n",
       "        0.91208791, 0.92307692, 0.91208791, 0.91208791, 0.92307692,\n",
       "        0.92307692, 0.91208791, 0.91208791, 0.85714286, 0.86813187,\n",
       "        0.85714286, 0.86813187, 0.85714286, 0.86813187, 0.85714286,\n",
       "        0.85714286, 0.86813187, 0.63736264, 0.63736264, 0.63736264,\n",
       "        0.63736264, 0.63736264, 0.63736264, 0.63736264, 0.63736264,\n",
       "        0.63736264, 0.85714286, 0.9010989 , 0.9010989 , 0.91208791,\n",
       "        0.9010989 , 0.9010989 , 0.9010989 , 0.9010989 , 0.9010989 ,\n",
       "        0.86813187, 0.91208791, 0.91208791, 0.93406593, 0.93406593,\n",
       "        0.92307692, 0.93406593, 0.93406593, 0.93406593, 0.63736264,\n",
       "        0.63736264, 0.63736264, 0.63736264, 0.63736264, 0.63736264,\n",
       "        0.63736264, 0.63736264, 0.63736264]),\n",
       " 'split1_test_score': array([0.92307692, 0.94505495, 0.91208791, 0.93406593, 0.92307692,\n",
       "        0.92307692, 0.93406593, 0.93406593, 0.93406593, 0.92307692,\n",
       "        0.93406593, 0.92307692, 0.92307692, 0.92307692, 0.92307692,\n",
       "        0.93406593, 0.91208791, 0.92307692, 0.92307692, 0.92307692,\n",
       "        0.92307692, 0.92307692, 0.92307692, 0.92307692, 0.92307692,\n",
       "        0.92307692, 0.92307692, 0.63736264, 0.63736264, 0.63736264,\n",
       "        0.63736264, 0.63736264, 0.63736264, 0.63736264, 0.63736264,\n",
       "        0.63736264, 0.92307692, 0.92307692, 0.92307692, 0.92307692,\n",
       "        0.92307692, 0.92307692, 0.92307692, 0.92307692, 0.92307692,\n",
       "        0.92307692, 0.93406593, 0.92307692, 0.92307692, 0.92307692,\n",
       "        0.92307692, 0.92307692, 0.92307692, 0.92307692, 0.63736264,\n",
       "        0.63736264, 0.63736264, 0.63736264, 0.63736264, 0.63736264,\n",
       "        0.63736264, 0.63736264, 0.63736264]),\n",
       " 'split2_test_score': array([0.83516484, 0.87912088, 0.86813187, 0.86813187, 0.86813187,\n",
       "        0.86813187, 0.86813187, 0.86813187, 0.86813187, 0.83516484,\n",
       "        0.87912088, 0.87912088, 0.92307692, 0.92307692, 0.92307692,\n",
       "        0.92307692, 0.91208791, 0.92307692, 0.83516484, 0.83516484,\n",
       "        0.83516484, 0.83516484, 0.83516484, 0.83516484, 0.83516484,\n",
       "        0.83516484, 0.83516484, 0.63736264, 0.63736264, 0.63736264,\n",
       "        0.63736264, 0.63736264, 0.63736264, 0.63736264, 0.63736264,\n",
       "        0.63736264, 0.83516484, 0.83516484, 0.83516484, 0.83516484,\n",
       "        0.83516484, 0.83516484, 0.83516484, 0.83516484, 0.83516484,\n",
       "        0.83516484, 0.87912088, 0.89010989, 0.91208791, 0.92307692,\n",
       "        0.91208791, 0.92307692, 0.91208791, 0.92307692, 0.63736264,\n",
       "        0.63736264, 0.63736264, 0.63736264, 0.63736264, 0.63736264,\n",
       "        0.63736264, 0.63736264, 0.63736264]),\n",
       " 'split3_test_score': array([0.9010989 , 0.9010989 , 0.9010989 , 0.9010989 , 0.9010989 ,\n",
       "        0.9010989 , 0.9010989 , 0.9010989 , 0.9010989 , 0.9010989 ,\n",
       "        0.9010989 , 0.9010989 , 0.9010989 , 0.91208791, 0.89010989,\n",
       "        0.9010989 , 0.91208791, 0.91208791, 0.9010989 , 0.9010989 ,\n",
       "        0.9010989 , 0.9010989 , 0.9010989 , 0.9010989 , 0.9010989 ,\n",
       "        0.9010989 , 0.9010989 , 0.63736264, 0.63736264, 0.63736264,\n",
       "        0.63736264, 0.63736264, 0.63736264, 0.63736264, 0.63736264,\n",
       "        0.63736264, 0.9010989 , 0.9010989 , 0.9010989 , 0.9010989 ,\n",
       "        0.9010989 , 0.9010989 , 0.9010989 , 0.9010989 , 0.9010989 ,\n",
       "        0.9010989 , 0.9010989 , 0.9010989 , 0.91208791, 0.91208791,\n",
       "        0.91208791, 0.91208791, 0.91208791, 0.91208791, 0.63736264,\n",
       "        0.63736264, 0.63736264, 0.63736264, 0.63736264, 0.63736264,\n",
       "        0.63736264, 0.63736264, 0.63736264]),\n",
       " 'split4_test_score': array([0.89010989, 0.9010989 , 0.92307692, 0.92307692, 0.92307692,\n",
       "        0.92307692, 0.92307692, 0.92307692, 0.92307692, 0.89010989,\n",
       "        0.9010989 , 0.9010989 , 0.92307692, 0.91208791, 0.93406593,\n",
       "        0.93406593, 0.92307692, 0.9010989 , 0.89010989, 0.89010989,\n",
       "        0.89010989, 0.89010989, 0.89010989, 0.89010989, 0.89010989,\n",
       "        0.89010989, 0.89010989, 0.62637363, 0.62637363, 0.62637363,\n",
       "        0.62637363, 0.62637363, 0.62637363, 0.62637363, 0.62637363,\n",
       "        0.62637363, 0.89010989, 0.92307692, 0.92307692, 0.92307692,\n",
       "        0.92307692, 0.92307692, 0.92307692, 0.92307692, 0.92307692,\n",
       "        0.89010989, 0.9010989 , 0.92307692, 0.94505495, 0.93406593,\n",
       "        0.91208791, 0.9010989 , 0.94505495, 0.92307692, 0.62637363,\n",
       "        0.62637363, 0.62637363, 0.62637363, 0.62637363, 0.62637363,\n",
       "        0.62637363, 0.62637363, 0.62637363]),\n",
       " 'mean_test_score': array([0.88351648, 0.90769231, 0.90549451, 0.90769231, 0.90549451,\n",
       "        0.90549451, 0.90769231, 0.90769231, 0.90769231, 0.88351648,\n",
       "        0.90549451, 0.90549451, 0.91648352, 0.91648352, 0.91868132,\n",
       "        0.92307692, 0.91428571, 0.91428571, 0.88131868, 0.88351648,\n",
       "        0.88131868, 0.88351648, 0.88131868, 0.88351648, 0.88131868,\n",
       "        0.88131868, 0.88351648, 0.63516484, 0.63516484, 0.63516484,\n",
       "        0.63516484, 0.63516484, 0.63516484, 0.63516484, 0.63516484,\n",
       "        0.63516484, 0.88131868, 0.8967033 , 0.8967033 , 0.8989011 ,\n",
       "        0.8967033 , 0.8967033 , 0.8967033 , 0.8967033 , 0.8967033 ,\n",
       "        0.88351648, 0.90549451, 0.90989011, 0.92527473, 0.92527473,\n",
       "        0.91648352, 0.91868132, 0.92527473, 0.92307692, 0.63516484,\n",
       "        0.63516484, 0.63516484, 0.63516484, 0.63516484, 0.63516484,\n",
       "        0.63516484, 0.63516484, 0.63516484]),\n",
       " 'std_test_score': array([0.02997403, 0.02153398, 0.02038158, 0.02262776, 0.02038158,\n",
       "        0.02038158, 0.02262776, 0.02262776, 0.02262776, 0.02997403,\n",
       "        0.01785503, 0.01644685, 0.00879121, 0.00538349, 0.01490622,\n",
       "        0.01203786, 0.0043956 , 0.00822342, 0.03139089, 0.02997403,\n",
       "        0.03139089, 0.02997403, 0.03139089, 0.02997403, 0.03139089,\n",
       "        0.03139089, 0.02997403, 0.0043956 , 0.0043956 , 0.0043956 ,\n",
       "        0.0043956 , 0.0043956 , 0.0043956 , 0.0043956 , 0.0043956 ,\n",
       "        0.0043956 , 0.03139089, 0.03230096, 0.03230096, 0.03289369,\n",
       "        0.03230096, 0.03230096, 0.03230096, 0.03230096, 0.03230096,\n",
       "        0.02997403, 0.01785503, 0.01281528, 0.01281528, 0.00822342,\n",
       "        0.00538349, 0.01120664, 0.01281528, 0.00695006, 0.0043956 ,\n",
       "        0.0043956 , 0.0043956 , 0.0043956 , 0.0043956 , 0.0043956 ,\n",
       "        0.0043956 , 0.0043956 , 0.0043956 ]),\n",
       " 'rank_test_score': array([33, 14, 19, 14, 19, 19, 14, 14, 14, 33, 19, 19,  8,  8,  6,  4, 11,\n",
       "        11, 40, 33, 40, 33, 40, 33, 40, 40, 33, 46, 46, 46, 46, 46, 46, 46,\n",
       "        46, 46, 40, 26, 26, 25, 26, 26, 26, 26, 26, 33, 19, 13,  1,  1,  8,\n",
       "         6,  1,  4, 46, 46, 46, 46, 46, 46, 46, 46, 46])}"
      ]
     },
     "execution_count": 27,
     "metadata": {},
     "output_type": "execute_result"
    }
   ],
   "source": [
    "model.cv_results_"
   ]
  },
  {
   "cell_type": "code",
   "execution_count": 28,
   "metadata": {
    "scrolled": true
   },
   "outputs": [
    {
     "name": "stdout",
     "output_type": "stream",
     "text": [
      "{'ccp_alpha': 0.005, 'max_depth': 5} 0.9252747252747252 DecisionTreeClassifier(ccp_alpha=0.005, max_depth=5)\n"
     ]
    }
   ],
   "source": [
    "\n",
    "print(model.best_params_,model.best_score_,model.best_estimator_)"
   ]
  },
  {
   "cell_type": "code",
   "execution_count": 49,
   "metadata": {},
   "outputs": [
    {
     "data": {
      "text/plain": [
       "{'ccp_alphas': array([0.        , 0.0032967 , 0.00429888, 0.00923446, 0.01149029,\n",
       "        0.01859962, 0.04912887, 0.31941419]),\n",
       " 'impurities': array([0.04799792, 0.05129463, 0.05559351, 0.06482797, 0.07631826,\n",
       "        0.09491787, 0.14404675, 0.46346093])}"
      ]
     },
     "execution_count": 49,
     "metadata": {},
     "output_type": "execute_result"
    }
   ],
   "source": [
    "path"
   ]
  },
  {
   "cell_type": "code",
   "execution_count": 31,
   "metadata": {},
   "outputs": [],
   "source": [
    "path=regressor.cost_complexity_pruning_path(X_train,y_train)\n",
    "ccp_alphas=path.ccp_alphas\n",
    "ccp_alphas=ccp_alphas[:-1]\n",
    "\n",
    "clf_dts=[]\n",
    "\n",
    "for ccp_alpha in ccp_alphas:\n",
    "    clf_dt=DecisionTreeClassifier(random_state=15,ccp_alpha=ccp_alpha)\n",
    "    clf_dt.fit(X_train,y_train)\n",
    "    clf_dts.append(clf_dt)"
   ]
  },
  {
   "cell_type": "code",
   "execution_count": 33,
   "metadata": {},
   "outputs": [
    {
     "data": {
      "text/plain": [
       "array([0.        , 0.0032967 , 0.00429888, 0.00923446, 0.01149029,\n",
       "       0.01859962, 0.04912887])"
      ]
     },
     "execution_count": 33,
     "metadata": {},
     "output_type": "execute_result"
    }
   ],
   "source": [
    "ccp_alphas"
   ]
  },
  {
   "cell_type": "code",
   "execution_count": 32,
   "metadata": {},
   "outputs": [
    {
     "data": {
      "text/plain": [
       "[DecisionTreeClassifier(random_state=15),\n",
       " DecisionTreeClassifier(ccp_alpha=0.0032967032967032967, random_state=15),\n",
       " DecisionTreeClassifier(ccp_alpha=0.004298881945940766, random_state=15),\n",
       " DecisionTreeClassifier(ccp_alpha=0.009234463015975612, random_state=15),\n",
       " DecisionTreeClassifier(ccp_alpha=0.011490285716976276, random_state=15),\n",
       " DecisionTreeClassifier(ccp_alpha=0.018599616478725718, random_state=15),\n",
       " DecisionTreeClassifier(ccp_alpha=0.04912887452219583, random_state=15)]"
      ]
     },
     "execution_count": 32,
     "metadata": {},
     "output_type": "execute_result"
    }
   ],
   "source": [
    "clf_dts"
   ]
  },
  {
   "cell_type": "code",
   "execution_count": 38,
   "metadata": {},
   "outputs": [
    {
     "data": {
      "image/png": "[encoded data removed]",
      "text/plain": [
       "<Figure size 432x288 with 1 Axes>"
      ]
     },
     "metadata": {
      "needs_background": "light"
     },
     "output_type": "display_data"
    }
   ],
   "source": [
    "train_score=[clf_dt.score(X_train,y_train) for clf_dt in clf_dts]\n",
    "test_score=[clf_dt.score(X_test,y_test) for clf_dt in clf_dts]\n",
    "\n",
    "fig,ax=plt.subplots()\n",
    "ax.set_xlabel(\"alpha\")\n",
    "ax.set_ylabel(\"accuracy\")\n",
    "\n",
    "ax.plot(ccp_alphas,train_score,marker='o',label='train')\n",
    "\n",
    "ax.plot(ccp_alphas,test_score,marker='o',label='test')\n",
    "ax.legend()\n",
    "plt.show()"
   ]
  },
  {
   "cell_type": "code",
   "execution_count": 36,
   "metadata": {},
   "outputs": [
    {
     "data": {
      "text/plain": [
       "0.9208791208791208"
      ]
     },
     "execution_count": 36,
     "metadata": {},
     "output_type": "execute_result"
    }
   ],
   "source": [
    "clf_dt.score(X_train,y_train)"
   ]
  },
  {
   "cell_type": "code",
   "execution_count": 44,
   "metadata": {},
   "outputs": [
    {
     "data": {
      "text/plain": [
       "array([0.        , 0.0032967 , 0.00429888, 0.00923446, 0.01149029,\n",
       "       0.01859962, 0.04912887])"
      ]
     },
     "execution_count": 44,
     "metadata": {},
     "output_type": "execute_result"
    }
   ],
   "source": [
    "ccp_alphas"
   ]
  },
  {
   "cell_type": "code",
   "execution_count": 47,
   "metadata": {},
   "outputs": [
    {
     "data": {
      "text/plain": [
       "<matplotlib.axes._subplots.AxesSubplot at 0xe537c10>"
      ]
     },
     "execution_count": 47,
     "metadata": {},
     "output_type": "execute_result"
    },
    {
     "data": {
      "image/png": "[encoded data removed]",
      "text/plain": [
       "<Figure size 432x288 with 1 Axes>"
      ]
     },
     "metadata": {
      "needs_background": "light"
     },
     "output_type": "display_data"
    }
   ],
   "source": [
    "from sklearn.model_selection import cross_val_score\n",
    "\n",
    "clf_dt=DecisionTreeClassifier(random_state=15,ccp_alpha=0.0035)\n",
    "scores=cross_val_score(clf_dt,X_train,y_train,cv=5)\n",
    "\n",
    "df=pd.DataFrame(data={'tree':range(5), 'accuracy':scores})\n",
    "\n",
    "df.plot(x='tree',y='accuracy',marker='o')"
   ]
  },
  {
   "cell_type": "code",
   "execution_count": 42,
   "metadata": {},
   "outputs": [
    {
     "data": {
      "text/plain": [
       "<matplotlib.axes._subplots.AxesSubplot at 0xed0cf40>"
      ]
     },
     "execution_count": 42,
     "metadata": {},
     "output_type": "execute_result"
    },
    {
     "data": {
      "image/png": "[encoded data removed]",
      "text/plain": [
       "<Figure size 432x288 with 1 Axes>"
      ]
     },
     "metadata": {
      "needs_background": "light"
     },
     "output_type": "display_data"
    }
   ],
   "source": [
    "alpha_loop_values=[]\n",
    "\n",
    "ccp_alphas=path.ccp_alphas\n",
    "ccp_alphas=ccp_alphas[:-1]\n",
    "\n",
    "\n",
    "for ccp_alpha in ccp_alphas:\n",
    "    clf_dt=DecisionTreeClassifier(random_state=15,ccp_alpha=ccp_alpha)\n",
    "    scores=cross_val_score(clf_dt,X_train,y_train,cv=5)\n",
    "    alpha_loop_values.append([ccp_alpha,np.mean(scores),np.std(scores)])\n",
    "    \n",
    "alpha_results=pd.DataFrame(alpha_loop_values,\n",
    "                           columns=['alpha','accuracy_mean','std'])\n",
    "\n",
    "alpha_results.plot(x='alpha',\n",
    "                  y='accuracy_mean',\n",
    "                   yerr='std',\n",
    "                  marker='o')\n"
   ]
  },
  {
   "cell_type": "code",
   "execution_count": 43,
   "metadata": {},
   "outputs": [
    {
     "data": {
      "text/html": [
       "<div>\n",
       "<style scoped>\n",
       "    .dataframe tbody tr th:only-of-type {\n",
       "        vertical-align: middle;\n",
       "    }\n",
       "\n",
       "    .dataframe tbody tr th {\n",
       "        vertical-align: top;\n",
       "    }\n",
       "\n",
       "    .dataframe thead th {\n",
       "        text-align: right;\n",
       "    }\n",
       "</style>\n",
       "<table border=\"1\" class=\"dataframe\">\n",
       "  <thead>\n",
       "    <tr style=\"text-align: right;\">\n",
       "      <th></th>\n",
       "      <th>alpha</th>\n",
       "      <th>accuracy_mean</th>\n",
       "      <th>std</th>\n",
       "    </tr>\n",
       "  </thead>\n",
       "  <tbody>\n",
       "    <tr>\n",
       "      <th>0</th>\n",
       "      <td>0.000000</td>\n",
       "      <td>0.907692</td>\n",
       "      <td>0.020382</td>\n",
       "    </tr>\n",
       "    <tr>\n",
       "      <th>1</th>\n",
       "      <td>0.003297</td>\n",
       "      <td>0.927473</td>\n",
       "      <td>0.016447</td>\n",
       "    </tr>\n",
       "    <tr>\n",
       "      <th>2</th>\n",
       "      <td>0.004299</td>\n",
       "      <td>0.927473</td>\n",
       "      <td>0.016447</td>\n",
       "    </tr>\n",
       "    <tr>\n",
       "      <th>3</th>\n",
       "      <td>0.009234</td>\n",
       "      <td>0.907692</td>\n",
       "      <td>0.021534</td>\n",
       "    </tr>\n",
       "    <tr>\n",
       "      <th>4</th>\n",
       "      <td>0.011490</td>\n",
       "      <td>0.905495</td>\n",
       "      <td>0.020382</td>\n",
       "    </tr>\n",
       "    <tr>\n",
       "      <th>5</th>\n",
       "      <td>0.018600</td>\n",
       "      <td>0.907692</td>\n",
       "      <td>0.025631</td>\n",
       "    </tr>\n",
       "    <tr>\n",
       "      <th>6</th>\n",
       "      <td>0.049129</td>\n",
       "      <td>0.896703</td>\n",
       "      <td>0.032301</td>\n",
       "    </tr>\n",
       "  </tbody>\n",
       "</table>\n",
       "</div>"
      ],
      "text/plain": [
       "      alpha  accuracy_mean       std\n",
       "0  0.000000       0.907692  0.020382\n",
       "1  0.003297       0.927473  0.016447\n",
       "2  0.004299       0.927473  0.016447\n",
       "3  0.009234       0.907692  0.021534\n",
       "4  0.011490       0.905495  0.020382\n",
       "5  0.018600       0.907692  0.025631\n",
       "6  0.049129       0.896703  0.032301"
      ]
     },
     "execution_count": 43,
     "metadata": {},
     "output_type": "execute_result"
    }
   ],
   "source": [
    "alpha_results"
   ]
  },
  {
   "cell_type": "code",
   "execution_count": 57,
   "metadata": {},
   "outputs": [
    {
     "data": {
      "text/plain": [
       "1    0.003297\n",
       "Name: alpha, dtype: float64"
      ]
     },
     "execution_count": 57,
     "metadata": {},
     "output_type": "execute_result"
    }
   ],
   "source": [
    "ideal_ccp_alpha=alpha_results[(alpha_results['alpha']>0.003)\n",
    "                             &\n",
    "                             (alpha_results['alpha']<0.0042)]['alpha']\n",
    "\n",
    "ideal_ccp_alpha"
   ]
  },
  {
   "cell_type": "code",
   "execution_count": 56,
   "metadata": {},
   "outputs": [
    {
     "data": {
      "text/plain": [
       "0    False\n",
       "1    False\n",
       "2     True\n",
       "3     True\n",
       "4     True\n",
       "5     True\n",
       "6     True\n",
       "Name: alpha, dtype: bool"
      ]
     },
     "execution_count": 56,
     "metadata": {},
     "output_type": "execute_result"
    }
   ],
   "source": [
    "(alpha_results['alpha']>0.003)"
   ]
  },
  {
   "cell_type": "code",
   "execution_count": 170,
   "metadata": {},
   "outputs": [],
   "source": [
    "final_dt=DecisionTreeClassifier(random_state=15,ccp_alpha=0.005)"
   ]
  },
  {
   "cell_type": "code",
   "execution_count": 171,
   "metadata": {},
   "outputs": [
    {
     "data": {
      "text/plain": [
       "DecisionTreeClassifier(ccp_alpha=0.005, random_state=15)"
      ]
     },
     "execution_count": 171,
     "metadata": {},
     "output_type": "execute_result"
    }
   ],
   "source": [
    "final_dt.fit(X_train,y_train)"
   ]
  },
  {
   "cell_type": "code",
   "execution_count": 172,
   "metadata": {},
   "outputs": [],
   "source": [
    "X_pred=final_dt.predict(X_train)"
   ]
  },
  {
   "cell_type": "code",
   "execution_count": 173,
   "metadata": {},
   "outputs": [],
   "source": [
    "y_pred=final_dt.predict(X_test)"
   ]
  },
  {
   "cell_type": "code",
   "execution_count": 174,
   "metadata": {},
   "outputs": [],
   "source": [
    "from sklearn.metrics import confusion_matrix, classification_report, accuracy_score\n"
   ]
  },
  {
   "cell_type": "code",
   "execution_count": null,
   "metadata": {},
   "outputs": [],
   "source": []
  },
  {
   "cell_type": "code",
   "execution_count": 175,
   "metadata": {},
   "outputs": [
    {
     "name": "stdout",
     "output_type": "stream",
     "text": [
      "[[161   5]\n",
      " [  2 287]]\n",
      "              precision    recall  f1-score   support\n",
      "\n",
      "           0       0.99      0.97      0.98       166\n",
      "           1       0.98      0.99      0.99       289\n",
      "\n",
      "    accuracy                           0.98       455\n",
      "   macro avg       0.99      0.98      0.98       455\n",
      "weighted avg       0.98      0.98      0.98       455\n",
      "\n",
      "0.9846153846153847\n"
     ]
    }
   ],
   "source": [
    "print(confusion_matrix(y_train,X_pred))\n",
    "print(classification_report(y_train,X_pred))\n",
    "print(accuracy_score(y_train,X_pred))"
   ]
  },
  {
   "cell_type": "code",
   "execution_count": 176,
   "metadata": {},
   "outputs": [
    {
     "name": "stdout",
     "output_type": "stream",
     "text": [
      "[[36 10]\n",
      " [ 0 68]]\n",
      "              precision    recall  f1-score   support\n",
      "\n",
      "           0       1.00      0.78      0.88        46\n",
      "           1       0.87      1.00      0.93        68\n",
      "\n",
      "    accuracy                           0.91       114\n",
      "   macro avg       0.94      0.89      0.90       114\n",
      "weighted avg       0.92      0.91      0.91       114\n",
      "\n",
      "0.9122807017543859\n"
     ]
    }
   ],
   "source": [
    "print(confusion_matrix(y_test,y_pred))\n",
    "print(classification_report(y_test,y_pred))\n",
    "print(accuracy_score(y_test,y_pred))"
   ]
  },
  {
   "cell_type": "code",
   "execution_count": 184,
   "metadata": {},
   "outputs": [
    {
     "data": {
      "image/png": "[encoded data removed]",
      "text/plain": [
       "<Figure size 1080x864 with 1 Axes>"
      ]
     },
     "metadata": {
      "needs_background": "light"
     },
     "output_type": "display_data"
    }
   ],
   "source": [
    "from sklearn.tree import plot_tree\n",
    "fig, ax = plt.subplots(figsize=(15, 12))\n",
    "plot_tree(final_dt,\n",
    "         filled=True,\n",
    "         rounded=True,\n",
    "         class_names=[\"Cancer\",\"No Cancer\"],\n",
    "         feature_names=df_x.columns)\n",
    "\n",
    "plt.show()\n"
   ]
  },
  {
   "cell_type": "code",
   "execution_count": null,
   "metadata": {},
   "outputs": [],
   "source": []
  }
 ],
 "metadata": {
  "kernelspec": {
   "display_name": "Python 3",
   "language": "python",
   "name": "python3"
  },
  "language_info": {
   "codemirror_mode": {
    "name": "ipython",
    "version": 3
   },
   "file_extension": ".py",
   "mimetype": "text/x-python",
   "name": "python",
   "nbconvert_exporter": "python",
   "pygments_lexer": "ipython3",
   "version": "3.8.3"
  }
 },
 "nbformat": 4,
 "nbformat_minor": 4
}
